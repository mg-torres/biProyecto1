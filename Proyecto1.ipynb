{
 "cells": [
  {
   "cell_type": "code",
   "execution_count": 1,
   "source": [
    "# Importa la libreria \n",
    "import nltk\n",
    "# Descarga paquetes adicionales"
   ],
   "outputs": [],
   "metadata": {
    "id": "j9ACW7xRa7LI"
   }
  },
  {
   "cell_type": "code",
   "execution_count": 2,
   "source": [
    "pip install inflect"
   ],
   "outputs": [
    {
     "output_type": "stream",
     "name": "stdout",
     "text": [
      "Requirement already satisfied: inflect in /Users/gabycaballero/opt/anaconda3/lib/python3.8/site-packages (5.3.0)\n",
      "Note: you may need to restart the kernel to use updated packages.\n"
     ]
    }
   ],
   "metadata": {}
  },
  {
   "cell_type": "code",
   "execution_count": 3,
   "source": [
    "# Punkt permite separar un texto en frases.\n",
    "nltk.download('punkt')"
   ],
   "outputs": [
    {
     "output_type": "stream",
     "name": "stderr",
     "text": [
      "[nltk_data] Downloading package punkt to\n",
      "[nltk_data]     /Users/gabycaballero/nltk_data...\n",
      "[nltk_data]   Package punkt is already up-to-date!\n"
     ]
    },
    {
     "output_type": "execute_result",
     "data": {
      "text/plain": [
       "True"
      ]
     },
     "metadata": {},
     "execution_count": 3
    }
   ],
   "metadata": {
    "colab": {
     "base_uri": "https://localhost:8080/"
    },
    "id": "-ShFDvCUbAeH",
    "outputId": "c2717d57-6f0a-4428-dbd9-07de87c14706"
   }
  },
  {
   "cell_type": "code",
   "execution_count": 4,
   "source": [
    "# Descarga todas las palabras vacias, es decir, aquellas que no aportan nada al significado del texto\n",
    "nltk.download('stopwords')"
   ],
   "outputs": [
    {
     "output_type": "stream",
     "name": "stderr",
     "text": [
      "[nltk_data] Downloading package stopwords to\n",
      "[nltk_data]     /Users/gabycaballero/nltk_data...\n",
      "[nltk_data]   Package stopwords is already up-to-date!\n"
     ]
    },
    {
     "output_type": "execute_result",
     "data": {
      "text/plain": [
       "True"
      ]
     },
     "metadata": {},
     "execution_count": 4
    }
   ],
   "metadata": {
    "colab": {
     "base_uri": "https://localhost:8080/"
    },
    "id": "BmP12d-1bDYH",
    "outputId": "609e71de-7638-434d-9049-3ae74b6ac2cb"
   }
  },
  {
   "cell_type": "code",
   "execution_count": 5,
   "source": [
    "# Descarga de paquete WordNetLemmatizer, este es usado para encontrar el lema de cada palabra\n",
    "nltk.download('wordnet')"
   ],
   "outputs": [
    {
     "output_type": "stream",
     "name": "stderr",
     "text": [
      "[nltk_data] Downloading package wordnet to\n",
      "[nltk_data]     /Users/gabycaballero/nltk_data...\n",
      "[nltk_data]   Package wordnet is already up-to-date!\n"
     ]
    },
    {
     "output_type": "execute_result",
     "data": {
      "text/plain": [
       "True"
      ]
     },
     "metadata": {},
     "execution_count": 5
    }
   ],
   "metadata": {
    "colab": {
     "base_uri": "https://localhost:8080/"
    },
    "id": "XhEhkrkGbGBB",
    "outputId": "d0270b2d-1040-4cfc-869f-844b3fcb4c55"
   }
  },
  {
   "cell_type": "code",
   "execution_count": 6,
   "source": [
    "# Importación de librerias\n",
    "seed = 161\n",
    "import pandas as pd\n",
    "import numpy as np\n",
    "import sys\n",
    "from pandas_profiling import ProfileReport\n",
    "!pip install contractions\n",
    "import contractions\n",
    "import re, string, unicodedata\n",
    "\n",
    "import inflect\n",
    "from nltk import word_tokenize, sent_tokenize\n",
    "from nltk.corpus import stopwords\n",
    "from nltk.stem import LancasterStemmer, WordNetLemmatizer\n",
    "\n",
    "from sklearn.model_selection import train_test_split,GridSearchCV\n",
    "from sklearn.feature_extraction.text import TfidfVectorizer, CountVectorizer, HashingVectorizer\n",
    "from sklearn.pipeline import Pipeline, FeatureUnion\n",
    "from sklearn.svm import SVC\n",
    "from sklearn.ensemble import BaggingClassifier, RandomForestClassifier, AdaBoostClassifier\n",
    "from sklearn.naive_bayes import BernoulliNB\n",
    "from sklearn.metrics import classification_report, confusion_matrix, plot_precision_recall_curve\n",
    "from sklearn.base import BaseEstimator, ClassifierMixin\n",
    "from sklearn.neighbors import KNeighborsClassifier\n",
    "\n",
    "import matplotlib.pyplot as plt\n",
    "\n",
    "\n",
    "#Para el modelo de clasificación\n",
    "# Para preparar los datos\n",
    "# ------------------------\n",
    "from sklearn import tree as tr\n",
    "from sklearn.preprocessing import LabelEncoder\n",
    "# Para crear el arbol de decisión \n",
    "from sklearn.tree import DecisionTreeClassifier \n",
    "# Para usar KNN como clasificador\n",
    "from sklearn.neighbors import KNeighborsClassifier\n",
    "# Para realizar la separación del conjunto de aprendizaje en entrenamiento y test.\n",
    "from sklearn.model_selection import train_test_split\n",
    "# Para evaluar el modelo\n",
    "from sklearn.metrics import confusion_matrix, classification_report, precision_score, recall_score, f1_score, accuracy_score\n",
    "from sklearn.metrics import plot_confusion_matrix\n",
    "# Para búsqueda de hiperparámetros\n",
    "from sklearn.model_selection import GridSearchCV\n",
    "# Para la validación cruzada\n",
    "from sklearn.model_selection import KFold \n",
    "\n",
    "#importa KFold\n",
    "from sklearn.model_selection import KFold\n",
    "\n",
    "#importa el modelo SVM\n",
    "\n",
    "from sklearn import svm\n",
    "\n",
    "\n",
    "#Librerías para la visualización\n",
    "# -------------------------\n",
    "import matplotlib.pyplot as plt\n",
    "# Seaborn\n",
    "import seaborn as sns \n"
   ],
   "outputs": [
    {
     "output_type": "stream",
     "name": "stdout",
     "text": [
      "Requirement already satisfied: contractions in /Users/gabycaballero/opt/anaconda3/lib/python3.8/site-packages (0.0.52)\n",
      "Requirement already satisfied: textsearch>=0.0.21 in /Users/gabycaballero/opt/anaconda3/lib/python3.8/site-packages (from contractions) (0.0.21)\n",
      "Requirement already satisfied: pyahocorasick in /Users/gabycaballero/opt/anaconda3/lib/python3.8/site-packages (from textsearch>=0.0.21->contractions) (1.4.2)\n",
      "Requirement already satisfied: anyascii in /Users/gabycaballero/opt/anaconda3/lib/python3.8/site-packages (from textsearch>=0.0.21->contractions) (0.3.0)\n"
     ]
    }
   ],
   "metadata": {
    "colab": {
     "base_uri": "https://localhost:8080/"
    },
    "id": "Pts5IX8ObI6s",
    "outputId": "e955693a-4f5c-4407-d713-d92999faef54"
   }
  },
  {
   "cell_type": "code",
   "execution_count": 7,
   "source": [
    "#Actualiza pandas\n",
    "!pip install pandas --upgrade"
   ],
   "outputs": [
    {
     "output_type": "stream",
     "name": "stdout",
     "text": [
      "Requirement already satisfied: pandas in /Users/gabycaballero/opt/anaconda3/lib/python3.8/site-packages (1.3.3)\n",
      "Requirement already satisfied: numpy>=1.17.3 in /Users/gabycaballero/opt/anaconda3/lib/python3.8/site-packages (from pandas) (1.20.1)\n",
      "Requirement already satisfied: python-dateutil>=2.7.3 in /Users/gabycaballero/opt/anaconda3/lib/python3.8/site-packages (from pandas) (2.8.1)\n",
      "Requirement already satisfied: pytz>=2017.3 in /Users/gabycaballero/opt/anaconda3/lib/python3.8/site-packages (from pandas) (2021.1)\n",
      "Requirement already satisfied: six>=1.5 in /Users/gabycaballero/opt/anaconda3/lib/python3.8/site-packages (from python-dateutil>=2.7.3->pandas) (1.15.0)\n"
     ]
    }
   ],
   "metadata": {
    "colab": {
     "base_uri": "https://localhost:8080/"
    },
    "id": "wmo2N2i7WEsV",
    "outputId": "05afc0d3-d08d-43ce-b325-885bdd37ea6a"
   }
  },
  {
   "cell_type": "code",
   "execution_count": 8,
   "source": [
    "# Uso de la libreria pandas para la lectura de archivos\n",
    "data=pd.read_csv('kindle_reviews.csv', sep=',', encoding = 'utf-8', index_col=0, nrows=10000)\n",
    "# Asignación a una nueva variable de los datos leidos\n",
    "data_t=data\n",
    "data_t.sample(10)"
   ],
   "outputs": [
    {
     "output_type": "execute_result",
     "data": {
      "text/html": [
       "<div>\n",
       "<style scoped>\n",
       "    .dataframe tbody tr th:only-of-type {\n",
       "        vertical-align: middle;\n",
       "    }\n",
       "\n",
       "    .dataframe tbody tr th {\n",
       "        vertical-align: top;\n",
       "    }\n",
       "\n",
       "    .dataframe thead th {\n",
       "        text-align: right;\n",
       "    }\n",
       "</style>\n",
       "<table border=\"1\" class=\"dataframe\">\n",
       "  <thead>\n",
       "    <tr style=\"text-align: right;\">\n",
       "      <th></th>\n",
       "      <th>asin</th>\n",
       "      <th>helpful</th>\n",
       "      <th>overall</th>\n",
       "      <th>reviewText</th>\n",
       "      <th>reviewTime</th>\n",
       "      <th>reviewerID</th>\n",
       "      <th>reviewerName</th>\n",
       "      <th>summary</th>\n",
       "      <th>unixReviewTime</th>\n",
       "    </tr>\n",
       "  </thead>\n",
       "  <tbody>\n",
       "    <tr>\n",
       "      <th>4725</th>\n",
       "      <td>B002BWPDYS</td>\n",
       "      <td>[1, 1]</td>\n",
       "      <td>4</td>\n",
       "      <td>A sardonic parody of spy adventures, that isn'...</td>\n",
       "      <td>05 22, 2012</td>\n",
       "      <td>A39I3A6HUG5ZVO</td>\n",
       "      <td>Cici</td>\n",
       "      <td>Modern Keystone Kops</td>\n",
       "      <td>1337644800</td>\n",
       "    </tr>\n",
       "    <tr>\n",
       "      <th>3328</th>\n",
       "      <td>B001V5JK9A</td>\n",
       "      <td>[0, 0]</td>\n",
       "      <td>4</td>\n",
       "      <td>Start at the 1st book in this series and you'l...</td>\n",
       "      <td>03 31, 2013</td>\n",
       "      <td>A20FOSDIWU5KRD</td>\n",
       "      <td>Beth M. Fuller</td>\n",
       "      <td>I like it</td>\n",
       "      <td>1364688000</td>\n",
       "    </tr>\n",
       "    <tr>\n",
       "      <th>4378</th>\n",
       "      <td>B002A4MIDQ</td>\n",
       "      <td>[0, 2]</td>\n",
       "      <td>4</td>\n",
       "      <td>I read this one and thought it was good, not a...</td>\n",
       "      <td>11 7, 2010</td>\n",
       "      <td>A28VGN6IJA6ZUO</td>\n",
       "      <td>Teresa Tio \"sometimes fluff is important\"</td>\n",
       "      <td>Enjoyable Read, Loved the Norse Gods!</td>\n",
       "      <td>1289088000</td>\n",
       "    </tr>\n",
       "    <tr>\n",
       "      <th>4877</th>\n",
       "      <td>B002D48NBO</td>\n",
       "      <td>[3, 3]</td>\n",
       "      <td>5</td>\n",
       "      <td>While reading this book, I didn't find myself ...</td>\n",
       "      <td>10 30, 2012</td>\n",
       "      <td>A1SO69S1AS9TZ7</td>\n",
       "      <td>C.J. Williams \"&amp;#34;Attempting to Balance Lif...</td>\n",
       "      <td>Love it while on a train ride to NY</td>\n",
       "      <td>1351555200</td>\n",
       "    </tr>\n",
       "    <tr>\n",
       "      <th>6725</th>\n",
       "      <td>B002NOGE4M</td>\n",
       "      <td>[1, 1]</td>\n",
       "      <td>5</td>\n",
       "      <td>i loved it! i am writing this from my kindle b...</td>\n",
       "      <td>03 15, 2010</td>\n",
       "      <td>A2F8Z0D1X2FBFP</td>\n",
       "      <td>D. Rowe \"kindle lover\"</td>\n",
       "      <td>bravo!</td>\n",
       "      <td>1268611200</td>\n",
       "    </tr>\n",
       "    <tr>\n",
       "      <th>1604</th>\n",
       "      <td>B001892DK2</td>\n",
       "      <td>[1, 3]</td>\n",
       "      <td>2</td>\n",
       "      <td>This book started off interestingly enough, wh...</td>\n",
       "      <td>08 5, 2009</td>\n",
       "      <td>A2GHKTUUITHJYB</td>\n",
       "      <td>bklvr \"susan\"</td>\n",
       "      <td>Actually 2 1/2 stars</td>\n",
       "      <td>1249430400</td>\n",
       "    </tr>\n",
       "    <tr>\n",
       "      <th>9830</th>\n",
       "      <td>B0030MQIR4</td>\n",
       "      <td>[3, 4]</td>\n",
       "      <td>5</td>\n",
       "      <td>I thought it was a wonderfully written, hawt r...</td>\n",
       "      <td>03 16, 2011</td>\n",
       "      <td>AL2F5SD1B0P8K</td>\n",
       "      <td>Kate Eliz</td>\n",
       "      <td>Short, hawt read</td>\n",
       "      <td>1300233600</td>\n",
       "    </tr>\n",
       "    <tr>\n",
       "      <th>5186</th>\n",
       "      <td>B002E7ARKK</td>\n",
       "      <td>[11, 15]</td>\n",
       "      <td>1</td>\n",
       "      <td>I decided to try this book since it was free o...</td>\n",
       "      <td>02 26, 2010</td>\n",
       "      <td>A17J0MBCTL5J11</td>\n",
       "      <td>P. Fox</td>\n",
       "      <td>A short story</td>\n",
       "      <td>1267142400</td>\n",
       "    </tr>\n",
       "    <tr>\n",
       "      <th>7587</th>\n",
       "      <td>B002SB9ZCI</td>\n",
       "      <td>[0, 1]</td>\n",
       "      <td>3</td>\n",
       "      <td>I've read more interesting F/F stories but it ...</td>\n",
       "      <td>12 7, 2012</td>\n",
       "      <td>A1DM7TCXWBNBDP</td>\n",
       "      <td>Joanne O'Neil</td>\n",
       "      <td>OK</td>\n",
       "      <td>1354838400</td>\n",
       "    </tr>\n",
       "    <tr>\n",
       "      <th>9921</th>\n",
       "      <td>B0030N6DV4</td>\n",
       "      <td>[0, 0]</td>\n",
       "      <td>5</td>\n",
       "      <td>Thank you Lena. I loved this story. It's great...</td>\n",
       "      <td>10 10, 2012</td>\n",
       "      <td>A2C4RUNZU66XC2</td>\n",
       "      <td>Valencia</td>\n",
       "      <td>Georgia Peach for sure!</td>\n",
       "      <td>1349827200</td>\n",
       "    </tr>\n",
       "  </tbody>\n",
       "</table>\n",
       "</div>"
      ],
      "text/plain": [
       "            asin   helpful  overall  \\\n",
       "4725  B002BWPDYS    [1, 1]        4   \n",
       "3328  B001V5JK9A    [0, 0]        4   \n",
       "4378  B002A4MIDQ    [0, 2]        4   \n",
       "4877  B002D48NBO    [3, 3]        5   \n",
       "6725  B002NOGE4M    [1, 1]        5   \n",
       "1604  B001892DK2    [1, 3]        2   \n",
       "9830  B0030MQIR4    [3, 4]        5   \n",
       "5186  B002E7ARKK  [11, 15]        1   \n",
       "7587  B002SB9ZCI    [0, 1]        3   \n",
       "9921  B0030N6DV4    [0, 0]        5   \n",
       "\n",
       "                                             reviewText   reviewTime  \\\n",
       "4725  A sardonic parody of spy adventures, that isn'...  05 22, 2012   \n",
       "3328  Start at the 1st book in this series and you'l...  03 31, 2013   \n",
       "4378  I read this one and thought it was good, not a...   11 7, 2010   \n",
       "4877  While reading this book, I didn't find myself ...  10 30, 2012   \n",
       "6725  i loved it! i am writing this from my kindle b...  03 15, 2010   \n",
       "1604  This book started off interestingly enough, wh...   08 5, 2009   \n",
       "9830  I thought it was a wonderfully written, hawt r...  03 16, 2011   \n",
       "5186  I decided to try this book since it was free o...  02 26, 2010   \n",
       "7587  I've read more interesting F/F stories but it ...   12 7, 2012   \n",
       "9921  Thank you Lena. I loved this story. It's great...  10 10, 2012   \n",
       "\n",
       "          reviewerID                                      reviewerName  \\\n",
       "4725  A39I3A6HUG5ZVO                                              Cici   \n",
       "3328  A20FOSDIWU5KRD                                    Beth M. Fuller   \n",
       "4378  A28VGN6IJA6ZUO         Teresa Tio \"sometimes fluff is important\"   \n",
       "4877  A1SO69S1AS9TZ7  C.J. Williams \"&#34;Attempting to Balance Lif...   \n",
       "6725  A2F8Z0D1X2FBFP                            D. Rowe \"kindle lover\"   \n",
       "1604  A2GHKTUUITHJYB                                     bklvr \"susan\"   \n",
       "9830   AL2F5SD1B0P8K                                         Kate Eliz   \n",
       "5186  A17J0MBCTL5J11                                            P. Fox   \n",
       "7587  A1DM7TCXWBNBDP                                     Joanne O'Neil   \n",
       "9921  A2C4RUNZU66XC2                                          Valencia   \n",
       "\n",
       "                                    summary  unixReviewTime  \n",
       "4725                   Modern Keystone Kops      1337644800  \n",
       "3328                              I like it      1364688000  \n",
       "4378  Enjoyable Read, Loved the Norse Gods!      1289088000  \n",
       "4877    Love it while on a train ride to NY      1351555200  \n",
       "6725                                 bravo!      1268611200  \n",
       "1604                   Actually 2 1/2 stars      1249430400  \n",
       "9830                       Short, hawt read      1300233600  \n",
       "5186                          A short story      1267142400  \n",
       "7587                                     OK      1354838400  \n",
       "9921                Georgia Peach for sure!      1349827200  "
      ]
     },
     "metadata": {},
     "execution_count": 8
    }
   ],
   "metadata": {
    "colab": {
     "base_uri": "https://localhost:8080/",
     "height": 592
    },
    "id": "Hje_aDedLeS7",
    "outputId": "8d3f35ec-c1de-448e-a427-85505dd8ffff"
   }
  },
  {
   "cell_type": "code",
   "execution_count": 9,
   "source": [
    "data_t.shape\n"
   ],
   "outputs": [
    {
     "output_type": "execute_result",
     "data": {
      "text/plain": [
       "(10000, 9)"
      ]
     },
     "metadata": {},
     "execution_count": 9
    }
   ],
   "metadata": {
    "colab": {
     "base_uri": "https://localhost:8080/"
    },
    "id": "X4wj-Kv4nwEA",
    "outputId": "9477f199-467c-4019-f411-584ba9ab7893"
   }
  },
  {
   "cell_type": "code",
   "execution_count": 10,
   "source": [
    "data_t.dtypes"
   ],
   "outputs": [
    {
     "output_type": "execute_result",
     "data": {
      "text/plain": [
       "asin              object\n",
       "helpful           object\n",
       "overall            int64\n",
       "reviewText        object\n",
       "reviewTime        object\n",
       "reviewerID        object\n",
       "reviewerName      object\n",
       "summary           object\n",
       "unixReviewTime     int64\n",
       "dtype: object"
      ]
     },
     "metadata": {},
     "execution_count": 10
    }
   ],
   "metadata": {
    "colab": {
     "base_uri": "https://localhost:8080/"
    },
    "id": "N9Ezu_4A_DuD",
    "outputId": "d0650141-202b-4cc6-ffa0-2a447ac2c53c"
   }
  },
  {
   "cell_type": "code",
   "execution_count": 11,
   "source": [
    "data_t[\"reviewText\"]=data_t[\"reviewText\"].astype(str)"
   ],
   "outputs": [],
   "metadata": {
    "id": "f6m-gyC-_pwb"
   }
  },
  {
   "cell_type": "code",
   "execution_count": 13,
   "source": [
    "textos = data_t.copy()\n",
    "textos['Conteo'] = [len(x) for x in textos['reviewText']]\n",
    "textos['Moda'] = [max(set(x.split(' ')), key = x.split(' ').count) for x in textos['reviewText']]\n",
    "textos['Max'] = [[max([len(x) for x in i.split(' ')])][0] for i in textos['reviewText']]\n",
    "textos['Min'] = [[min([len(x) for x in i.split(' ')])][0] for i in textos['reviewText']]\n",
    "textos.sample(10)"
   ],
   "outputs": [
    {
     "output_type": "execute_result",
     "data": {
      "text/html": [
       "<div>\n",
       "<style scoped>\n",
       "    .dataframe tbody tr th:only-of-type {\n",
       "        vertical-align: middle;\n",
       "    }\n",
       "\n",
       "    .dataframe tbody tr th {\n",
       "        vertical-align: top;\n",
       "    }\n",
       "\n",
       "    .dataframe thead th {\n",
       "        text-align: right;\n",
       "    }\n",
       "</style>\n",
       "<table border=\"1\" class=\"dataframe\">\n",
       "  <thead>\n",
       "    <tr style=\"text-align: right;\">\n",
       "      <th></th>\n",
       "      <th>asin</th>\n",
       "      <th>helpful</th>\n",
       "      <th>overall</th>\n",
       "      <th>reviewText</th>\n",
       "      <th>reviewTime</th>\n",
       "      <th>reviewerID</th>\n",
       "      <th>reviewerName</th>\n",
       "      <th>summary</th>\n",
       "      <th>unixReviewTime</th>\n",
       "      <th>Conteo</th>\n",
       "      <th>Moda</th>\n",
       "      <th>Max</th>\n",
       "      <th>Min</th>\n",
       "    </tr>\n",
       "  </thead>\n",
       "  <tbody>\n",
       "    <tr>\n",
       "      <th>3906</th>\n",
       "      <td>B00264H2VI</td>\n",
       "      <td>[0, 0]</td>\n",
       "      <td>3</td>\n",
       "      <td>The first half was good with the short stories...</td>\n",
       "      <td>09 6, 2013</td>\n",
       "      <td>A1BXXIAROOQYNF</td>\n",
       "      <td>Travis</td>\n",
       "      <td>Good for half the book</td>\n",
       "      <td>1378425600</td>\n",
       "      <td>97</td>\n",
       "      <td>that</td>\n",
       "      <td>7</td>\n",
       "      <td>1</td>\n",
       "    </tr>\n",
       "    <tr>\n",
       "      <th>9518</th>\n",
       "      <td>B0030CML9S</td>\n",
       "      <td>[2, 2]</td>\n",
       "      <td>5</td>\n",
       "      <td>Wow! This is one story that I didn't think I'd...</td>\n",
       "      <td>01 25, 2013</td>\n",
       "      <td>A1H3S85JCPDZ32</td>\n",
       "      <td>JacquieMT</td>\n",
       "      <td>Wow so different</td>\n",
       "      <td>1359072000</td>\n",
       "      <td>893</td>\n",
       "      <td>to</td>\n",
       "      <td>11</td>\n",
       "      <td>1</td>\n",
       "    </tr>\n",
       "    <tr>\n",
       "      <th>4288</th>\n",
       "      <td>B00295R188</td>\n",
       "      <td>[0, 1]</td>\n",
       "      <td>5</td>\n",
       "      <td>Funny story The author might not intentionally...</td>\n",
       "      <td>08 10, 2013</td>\n",
       "      <td>A2PM7K9S8NJ69K</td>\n",
       "      <td>James Flint</td>\n",
       "      <td>Ok Gilbert berm me up.</td>\n",
       "      <td>1376092800</td>\n",
       "      <td>186</td>\n",
       "      <td>a</td>\n",
       "      <td>13</td>\n",
       "      <td>1</td>\n",
       "    </tr>\n",
       "    <tr>\n",
       "      <th>8542</th>\n",
       "      <td>B002WEPD7W</td>\n",
       "      <td>[0, 0]</td>\n",
       "      <td>4</td>\n",
       "      <td>This book had the potential of being great, to...</td>\n",
       "      <td>10 20, 2011</td>\n",
       "      <td>A2BMNWCFZXZ4ZS</td>\n",
       "      <td>Blessed</td>\n",
       "      <td>Good Book, But Not Great</td>\n",
       "      <td>1319068800</td>\n",
       "      <td>216</td>\n",
       "      <td>have</td>\n",
       "      <td>13</td>\n",
       "      <td>0</td>\n",
       "    </tr>\n",
       "    <tr>\n",
       "      <th>2909</th>\n",
       "      <td>B001Q3KT1K</td>\n",
       "      <td>[3, 3]</td>\n",
       "      <td>4</td>\n",
       "      <td>Rating:  4.5 starsThis book was a dark read an...</td>\n",
       "      <td>11 26, 2012</td>\n",
       "      <td>A31GEEKEZR7E5I</td>\n",
       "      <td>The Book Enthusiast</td>\n",
       "      <td>A Dark Erotic and Physiological Story</td>\n",
       "      <td>1353888000</td>\n",
       "      <td>1553</td>\n",
       "      <td>and</td>\n",
       "      <td>14</td>\n",
       "      <td>0</td>\n",
       "    </tr>\n",
       "    <tr>\n",
       "      <th>578</th>\n",
       "      <td>B000R93D4Y</td>\n",
       "      <td>[3, 6]</td>\n",
       "      <td>1</td>\n",
       "      <td>Thank God this was free because it was so terr...</td>\n",
       "      <td>06 26, 2013</td>\n",
       "      <td>A1OZ2ODY0K67KD</td>\n",
       "      <td>Alex</td>\n",
       "      <td>One word: horrible</td>\n",
       "      <td>1372204800</td>\n",
       "      <td>704</td>\n",
       "      <td>is</td>\n",
       "      <td>11</td>\n",
       "      <td>1</td>\n",
       "    </tr>\n",
       "    <tr>\n",
       "      <th>6448</th>\n",
       "      <td>B002L3RUFC</td>\n",
       "      <td>[0, 0]</td>\n",
       "      <td>5</td>\n",
       "      <td>I loved this book from beginning to end. Hopef...</td>\n",
       "      <td>05 29, 2012</td>\n",
       "      <td>A3IQ0P3M39IY8U</td>\n",
       "      <td>CINDY F.</td>\n",
       "      <td>Loved this book!</td>\n",
       "      <td>1338249600</td>\n",
       "      <td>955</td>\n",
       "      <td>to</td>\n",
       "      <td>16</td>\n",
       "      <td>1</td>\n",
       "    </tr>\n",
       "    <tr>\n",
       "      <th>9435</th>\n",
       "      <td>B0030CMJEK</td>\n",
       "      <td>[0, 0]</td>\n",
       "      <td>4</td>\n",
       "      <td>This was damn near everything that I needed it...</td>\n",
       "      <td>12 13, 2012</td>\n",
       "      <td>A2IKDJBPGCY19V</td>\n",
       "      <td>seraphcelene</td>\n",
       "      <td>Teh Hotness!</td>\n",
       "      <td>1355356800</td>\n",
       "      <td>2093</td>\n",
       "      <td>the</td>\n",
       "      <td>21</td>\n",
       "      <td>1</td>\n",
       "    </tr>\n",
       "    <tr>\n",
       "      <th>2400</th>\n",
       "      <td>B001GPOO64</td>\n",
       "      <td>[1, 1]</td>\n",
       "      <td>5</td>\n",
       "      <td>I Love This Book!!! It is sexy, sensual, funny...</td>\n",
       "      <td>04 16, 2014</td>\n",
       "      <td>A3E258BRKRVCQY</td>\n",
       "      <td>ECH</td>\n",
       "      <td>SEXY!!!!</td>\n",
       "      <td>1397606400</td>\n",
       "      <td>188</td>\n",
       "      <td>I</td>\n",
       "      <td>14</td>\n",
       "      <td>1</td>\n",
       "    </tr>\n",
       "    <tr>\n",
       "      <th>4015</th>\n",
       "      <td>B0026REA92</td>\n",
       "      <td>[0, 0]</td>\n",
       "      <td>5</td>\n",
       "      <td>Confession: I judged this book by the cover. B...</td>\n",
       "      <td>08 1, 2013</td>\n",
       "      <td>A12GGS9S147WCM</td>\n",
       "      <td>Sasha Van Baerle</td>\n",
       "      <td>Ready for more</td>\n",
       "      <td>1375315200</td>\n",
       "      <td>373</td>\n",
       "      <td>the</td>\n",
       "      <td>13</td>\n",
       "      <td>1</td>\n",
       "    </tr>\n",
       "  </tbody>\n",
       "</table>\n",
       "</div>"
      ],
      "text/plain": [
       "            asin helpful  overall  \\\n",
       "3906  B00264H2VI  [0, 0]        3   \n",
       "9518  B0030CML9S  [2, 2]        5   \n",
       "4288  B00295R188  [0, 1]        5   \n",
       "8542  B002WEPD7W  [0, 0]        4   \n",
       "2909  B001Q3KT1K  [3, 3]        4   \n",
       "578   B000R93D4Y  [3, 6]        1   \n",
       "6448  B002L3RUFC  [0, 0]        5   \n",
       "9435  B0030CMJEK  [0, 0]        4   \n",
       "2400  B001GPOO64  [1, 1]        5   \n",
       "4015  B0026REA92  [0, 0]        5   \n",
       "\n",
       "                                             reviewText   reviewTime  \\\n",
       "3906  The first half was good with the short stories...   09 6, 2013   \n",
       "9518  Wow! This is one story that I didn't think I'd...  01 25, 2013   \n",
       "4288  Funny story The author might not intentionally...  08 10, 2013   \n",
       "8542  This book had the potential of being great, to...  10 20, 2011   \n",
       "2909  Rating:  4.5 starsThis book was a dark read an...  11 26, 2012   \n",
       "578   Thank God this was free because it was so terr...  06 26, 2013   \n",
       "6448  I loved this book from beginning to end. Hopef...  05 29, 2012   \n",
       "9435  This was damn near everything that I needed it...  12 13, 2012   \n",
       "2400  I Love This Book!!! It is sexy, sensual, funny...  04 16, 2014   \n",
       "4015  Confession: I judged this book by the cover. B...   08 1, 2013   \n",
       "\n",
       "          reviewerID         reviewerName  \\\n",
       "3906  A1BXXIAROOQYNF               Travis   \n",
       "9518  A1H3S85JCPDZ32            JacquieMT   \n",
       "4288  A2PM7K9S8NJ69K          James Flint   \n",
       "8542  A2BMNWCFZXZ4ZS              Blessed   \n",
       "2909  A31GEEKEZR7E5I  The Book Enthusiast   \n",
       "578   A1OZ2ODY0K67KD                 Alex   \n",
       "6448  A3IQ0P3M39IY8U             CINDY F.   \n",
       "9435  A2IKDJBPGCY19V         seraphcelene   \n",
       "2400  A3E258BRKRVCQY                  ECH   \n",
       "4015  A12GGS9S147WCM     Sasha Van Baerle   \n",
       "\n",
       "                                    summary  unixReviewTime  Conteo  Moda  \\\n",
       "3906                 Good for half the book      1378425600      97  that   \n",
       "9518                       Wow so different      1359072000     893    to   \n",
       "4288                 Ok Gilbert berm me up.      1376092800     186     a   \n",
       "8542               Good Book, But Not Great      1319068800     216  have   \n",
       "2909  A Dark Erotic and Physiological Story      1353888000    1553   and   \n",
       "578                      One word: horrible      1372204800     704    is   \n",
       "6448                       Loved this book!      1338249600     955    to   \n",
       "9435                           Teh Hotness!      1355356800    2093   the   \n",
       "2400                               SEXY!!!!      1397606400     188     I   \n",
       "4015                         Ready for more      1375315200     373   the   \n",
       "\n",
       "      Max  Min  \n",
       "3906    7    1  \n",
       "9518   11    1  \n",
       "4288   13    1  \n",
       "8542   13    0  \n",
       "2909   14    0  \n",
       "578    11    1  \n",
       "6448   16    1  \n",
       "9435   21    1  \n",
       "2400   14    1  \n",
       "4015   13    1  "
      ]
     },
     "metadata": {},
     "execution_count": 13
    }
   ],
   "metadata": {
    "colab": {
     "base_uri": "https://localhost:8080/",
     "height": 1000
    },
    "id": "P8a6CBL6cvpV",
    "outputId": "6b3885ac-fdc4-48fa-8619-241604a501ec"
   }
  },
  {
   "cell_type": "code",
   "execution_count": null,
   "source": [
    "!pip install pandas==1.3.3\n",
    "\n"
   ],
   "outputs": [],
   "metadata": {
    "colab": {
     "base_uri": "https://localhost:8080/"
    },
    "id": "U0Z5pHp0dqlF",
    "outputId": "5d8ffc26-0863-44d0-d3ef-d8a33b34113e"
   }
  },
  {
   "cell_type": "code",
   "execution_count": null,
   "source": [
    "# Se realiza un perfilamiento de los datos con la libre pandas profiling\n",
    "#ProfileReport(textos)* Poner pantallazos de Jupyter\n",
    "\n",
    "# Nota: Este comando puede generar el siguiente error: \n",
    "# ImportError: cannot import name 'ABCIndexClass' from 'pandas.core.dtypes.generic'\n",
    "# Para solucionarlo, basta instalar cualquie version 1.2.x de Pandas: "
   ],
   "outputs": [],
   "metadata": {
    "id": "gZN6mmmKdDAz"
   }
  },
  {
   "cell_type": "markdown",
   "source": [
    "# Limpieza de datos"
   ],
   "metadata": {
    "id": "43JOnEDkghwf"
   }
  },
  {
   "cell_type": "code",
   "execution_count": 14,
   "source": [
    "def remove_non_ascii(words):\n",
    "    \"\"\"Remove non-ASCII characters from list of tokenized words\"\"\"\n",
    "    new_words = []\n",
    "    for word in words:\n",
    "        new_word = unicodedata.normalize('NFKD', word).encode('ascii', 'ignore').decode('utf-8', 'ignore')\n",
    "        new_words.append(new_word)\n",
    "    return new_words\n",
    "\n",
    "def to_lowercase(words):\n",
    "    \"\"\"Convert all characters to lowercase from list of tokenized words\"\"\"\n",
    "    new_words = []\n",
    "    for word in words:\n",
    "      new_word = word.lower()\n",
    "      new_words.append(new_word)\n",
    "    return new_words\n",
    "\n",
    "\n",
    "data_copy = data_t.copy()\n",
    "\n",
    "data_copy['reviewText'] = data_copy['reviewText'].apply(to_lowercase)\n",
    "\n",
    "  \n",
    "    \n",
    "\n",
    "def remove_punctuation(words):\n",
    "    \"\"\"Remove punctuation from list of tokenized words\"\"\"\n",
    "    new_words = []\n",
    "    for word in words:\n",
    "        new_word = re.sub(r'[^\\w\\s]', '', word)\n",
    "        if new_word != '':\n",
    "            new_words.append(new_word)\n",
    "    return new_words\n",
    "\n",
    "def replace_numbers(words):\n",
    "    \"\"\"Replace all interger occurrences in list of tokenized words with textual representation\"\"\"\n",
    "    p = inflect.engine()\n",
    "    new_words = []\n",
    "    for word in words:\n",
    "        if word.isdigit():\n",
    "            new_word = p.number_to_words(word)\n",
    "            new_words.append(new_word)\n",
    "        else:\n",
    "            new_words.append(word)\n",
    "    return new_words\n",
    "\n",
    "def remove_stopwords(words):\n",
    "    \"\"\"Remove stop words from list of tokenized words\"\"\"\n",
    "    new_words = []\n",
    "    for word in words:\n",
    "        if word not in stopwords.words('english'):\n",
    "            new_words.append(word)\n",
    "    return new_words\n",
    "\n",
    "\n",
    "def preprocessing(words):\n",
    "    words = to_lowercase(words)\n",
    "    words = replace_numbers(words)\n",
    "    words = remove_punctuation(words)\n",
    "    words = remove_non_ascii(words)\n",
    "    words = remove_stopwords(words)\n",
    "    return words"
   ],
   "outputs": [],
   "metadata": {
    "id": "-U-_Hiv8fzZ2"
   }
  },
  {
   "cell_type": "code",
   "execution_count": 15,
   "source": [
    "# def to_lowercase(words):\n",
    "#     \"\"\"Convert all characters to lowercase from list of tokenized words\"\"\"\n",
    "#     new_words = []\n",
    "#     for word in words:\n",
    "#       new_word = word.lower()\n",
    "#       new_words.append(new_word)\n",
    "#     return new_words\n",
    "\n",
    "\n",
    "# data_copy = data_t.copy()\n",
    "\n",
    "# data_copy['reviewText'] = data_copy.apply(lambda row: to_lowercase(row), axis = 1)\n",
    "\n",
    "# data_copy['reviewText'].head()\n",
    "\n"
   ],
   "outputs": [],
   "metadata": {
    "id": "c_I6ySiNf4y5"
   }
  },
  {
   "cell_type": "markdown",
   "source": [
    "# Tokenización\n"
   ],
   "metadata": {
    "id": "-NaDkdWJgZ5Q"
   }
  },
  {
   "cell_type": "code",
   "execution_count": 16,
   "source": [
    "import contractions\n",
    "\n",
    "data_t['reviewText'] = data_t['reviewText'].apply(contractions.fix) #Aplica la corrección de las contracciones"
   ],
   "outputs": [],
   "metadata": {
    "id": "vnaZdZJwgfBo"
   }
  },
  {
   "cell_type": "code",
   "execution_count": 17,
   "source": [
    "data_t['words'] = data_t['reviewText'].apply(word_tokenize).apply(preprocessing) #Aplica la eliminación del ruido\n",
    "data_t.head()"
   ],
   "outputs": [
    {
     "output_type": "execute_result",
     "data": {
      "text/html": [
       "<div>\n",
       "<style scoped>\n",
       "    .dataframe tbody tr th:only-of-type {\n",
       "        vertical-align: middle;\n",
       "    }\n",
       "\n",
       "    .dataframe tbody tr th {\n",
       "        vertical-align: top;\n",
       "    }\n",
       "\n",
       "    .dataframe thead th {\n",
       "        text-align: right;\n",
       "    }\n",
       "</style>\n",
       "<table border=\"1\" class=\"dataframe\">\n",
       "  <thead>\n",
       "    <tr style=\"text-align: right;\">\n",
       "      <th></th>\n",
       "      <th>asin</th>\n",
       "      <th>helpful</th>\n",
       "      <th>overall</th>\n",
       "      <th>reviewText</th>\n",
       "      <th>reviewTime</th>\n",
       "      <th>reviewerID</th>\n",
       "      <th>reviewerName</th>\n",
       "      <th>summary</th>\n",
       "      <th>unixReviewTime</th>\n",
       "      <th>words</th>\n",
       "    </tr>\n",
       "  </thead>\n",
       "  <tbody>\n",
       "    <tr>\n",
       "      <th>0</th>\n",
       "      <td>B000F83SZQ</td>\n",
       "      <td>[0, 0]</td>\n",
       "      <td>5</td>\n",
       "      <td>I enjoy vintage books and movies so I enjoyed ...</td>\n",
       "      <td>05 5, 2014</td>\n",
       "      <td>A1F6404F1VG29J</td>\n",
       "      <td>Avidreader</td>\n",
       "      <td>Nice vintage story</td>\n",
       "      <td>1399248000</td>\n",
       "      <td>[enjoy, vintage, books, movies, enjoyed, readi...</td>\n",
       "    </tr>\n",
       "    <tr>\n",
       "      <th>1</th>\n",
       "      <td>B000F83SZQ</td>\n",
       "      <td>[2, 2]</td>\n",
       "      <td>4</td>\n",
       "      <td>This book is a reissue of an old one; the auth...</td>\n",
       "      <td>01 6, 2014</td>\n",
       "      <td>AN0N05A9LIJEQ</td>\n",
       "      <td>critters</td>\n",
       "      <td>Different...</td>\n",
       "      <td>1388966400</td>\n",
       "      <td>[book, reissue, old, one, author, born, 1910, ...</td>\n",
       "    </tr>\n",
       "    <tr>\n",
       "      <th>2</th>\n",
       "      <td>B000F83SZQ</td>\n",
       "      <td>[2, 2]</td>\n",
       "      <td>4</td>\n",
       "      <td>This was a fairly interesting read.  It had ol...</td>\n",
       "      <td>04 4, 2014</td>\n",
       "      <td>A795DMNCJILA6</td>\n",
       "      <td>dot</td>\n",
       "      <td>Oldie</td>\n",
       "      <td>1396569600</td>\n",
       "      <td>[fairly, interesting, read, old, style, termin...</td>\n",
       "    </tr>\n",
       "    <tr>\n",
       "      <th>3</th>\n",
       "      <td>B000F83SZQ</td>\n",
       "      <td>[1, 1]</td>\n",
       "      <td>5</td>\n",
       "      <td>I would never read any of the Amy Brewster mys...</td>\n",
       "      <td>02 19, 2014</td>\n",
       "      <td>A1FV0SX13TWVXQ</td>\n",
       "      <td>Elaine H. Turley \"Montana Songbird\"</td>\n",
       "      <td>I really liked it.</td>\n",
       "      <td>1392768000</td>\n",
       "      <td>[would, never, read, amy, brewster, mysteries,...</td>\n",
       "    </tr>\n",
       "    <tr>\n",
       "      <th>4</th>\n",
       "      <td>B000F83SZQ</td>\n",
       "      <td>[0, 1]</td>\n",
       "      <td>4</td>\n",
       "      <td>If you like period pieces - clothing, lingo, y...</td>\n",
       "      <td>03 19, 2014</td>\n",
       "      <td>A3SPTOKDG7WBLN</td>\n",
       "      <td>Father Dowling Fan</td>\n",
       "      <td>Period Mystery</td>\n",
       "      <td>1395187200</td>\n",
       "      <td>[like, period, pieces, clothing, lingo, enjoy,...</td>\n",
       "    </tr>\n",
       "  </tbody>\n",
       "</table>\n",
       "</div>"
      ],
      "text/plain": [
       "         asin helpful  overall  \\\n",
       "0  B000F83SZQ  [0, 0]        5   \n",
       "1  B000F83SZQ  [2, 2]        4   \n",
       "2  B000F83SZQ  [2, 2]        4   \n",
       "3  B000F83SZQ  [1, 1]        5   \n",
       "4  B000F83SZQ  [0, 1]        4   \n",
       "\n",
       "                                          reviewText   reviewTime  \\\n",
       "0  I enjoy vintage books and movies so I enjoyed ...   05 5, 2014   \n",
       "1  This book is a reissue of an old one; the auth...   01 6, 2014   \n",
       "2  This was a fairly interesting read.  It had ol...   04 4, 2014   \n",
       "3  I would never read any of the Amy Brewster mys...  02 19, 2014   \n",
       "4  If you like period pieces - clothing, lingo, y...  03 19, 2014   \n",
       "\n",
       "       reviewerID                         reviewerName             summary  \\\n",
       "0  A1F6404F1VG29J                           Avidreader  Nice vintage story   \n",
       "1   AN0N05A9LIJEQ                             critters        Different...   \n",
       "2   A795DMNCJILA6                                  dot               Oldie   \n",
       "3  A1FV0SX13TWVXQ  Elaine H. Turley \"Montana Songbird\"  I really liked it.   \n",
       "4  A3SPTOKDG7WBLN                   Father Dowling Fan      Period Mystery   \n",
       "\n",
       "   unixReviewTime                                              words  \n",
       "0      1399248000  [enjoy, vintage, books, movies, enjoyed, readi...  \n",
       "1      1388966400  [book, reissue, old, one, author, born, 1910, ...  \n",
       "2      1396569600  [fairly, interesting, read, old, style, termin...  \n",
       "3      1392768000  [would, never, read, amy, brewster, mysteries,...  \n",
       "4      1395187200  [like, period, pieces, clothing, lingo, enjoy,...  "
      ]
     },
     "metadata": {},
     "execution_count": 17
    }
   ],
   "metadata": {
    "colab": {
     "base_uri": "https://localhost:8080/"
    },
    "id": "jhA-ZP4ljOU9",
    "outputId": "5eca1734-6eaa-4b81-970a-54df110d9747"
   }
  },
  {
   "cell_type": "markdown",
   "source": [
    "# Normalización\n"
   ],
   "metadata": {
    "id": "pPFTucUojcY3"
   }
  },
  {
   "cell_type": "code",
   "execution_count": 18,
   "source": [
    "def stem_words(words):\n",
    "    \"\"\"Stem words in list of tokenized words\"\"\"\n",
    "    stemmer = LancasterStemmer()\n",
    "    stems = []\n",
    "    for word in words:\n",
    "        stem = stemmer.stem(word)\n",
    "        stems.append(stem)\n",
    "    return stems\n",
    "\n",
    "def lemmatize_verbs(words):\n",
    "    \"\"\"Lemmatize verbs in list of tokenized words\"\"\"\n",
    "    lemmatizer = WordNetLemmatizer()\n",
    "    lemmas = []\n",
    "    for word in words:\n",
    "        lemma = lemmatizer.lemmatize(word, pos='v')\n",
    "        lemmas.append(lemma)\n",
    "    return lemmas\n",
    "\n",
    "def stem_and_lemmatize(words):\n",
    "    stems = stem_words(words)\n",
    "    lemmas = lemmatize_verbs(words)\n",
    "    return stems + lemmas\n",
    "\n",
    "data_t['words'] = data_t['words'].apply(stem_and_lemmatize) \n",
    "data_t.head()"
   ],
   "outputs": [
    {
     "output_type": "execute_result",
     "data": {
      "text/html": [
       "<div>\n",
       "<style scoped>\n",
       "    .dataframe tbody tr th:only-of-type {\n",
       "        vertical-align: middle;\n",
       "    }\n",
       "\n",
       "    .dataframe tbody tr th {\n",
       "        vertical-align: top;\n",
       "    }\n",
       "\n",
       "    .dataframe thead th {\n",
       "        text-align: right;\n",
       "    }\n",
       "</style>\n",
       "<table border=\"1\" class=\"dataframe\">\n",
       "  <thead>\n",
       "    <tr style=\"text-align: right;\">\n",
       "      <th></th>\n",
       "      <th>asin</th>\n",
       "      <th>helpful</th>\n",
       "      <th>overall</th>\n",
       "      <th>reviewText</th>\n",
       "      <th>reviewTime</th>\n",
       "      <th>reviewerID</th>\n",
       "      <th>reviewerName</th>\n",
       "      <th>summary</th>\n",
       "      <th>unixReviewTime</th>\n",
       "      <th>words</th>\n",
       "    </tr>\n",
       "  </thead>\n",
       "  <tbody>\n",
       "    <tr>\n",
       "      <th>0</th>\n",
       "      <td>B000F83SZQ</td>\n",
       "      <td>[0, 0]</td>\n",
       "      <td>5</td>\n",
       "      <td>I enjoy vintage books and movies so I enjoyed ...</td>\n",
       "      <td>05 5, 2014</td>\n",
       "      <td>A1F6404F1VG29J</td>\n",
       "      <td>Avidreader</td>\n",
       "      <td>Nice vintage story</td>\n",
       "      <td>1399248000</td>\n",
       "      <td>[enjoy, vint, book, movy, enjoy, read, book, p...</td>\n",
       "    </tr>\n",
       "    <tr>\n",
       "      <th>1</th>\n",
       "      <td>B000F83SZQ</td>\n",
       "      <td>[2, 2]</td>\n",
       "      <td>4</td>\n",
       "      <td>This book is a reissue of an old one; the auth...</td>\n",
       "      <td>01 6, 2014</td>\n",
       "      <td>AN0N05A9LIJEQ</td>\n",
       "      <td>critters</td>\n",
       "      <td>Different...</td>\n",
       "      <td>1388966400</td>\n",
       "      <td>[book, reissu, old, on, auth, born, 1910, er, ...</td>\n",
       "    </tr>\n",
       "    <tr>\n",
       "      <th>2</th>\n",
       "      <td>B000F83SZQ</td>\n",
       "      <td>[2, 2]</td>\n",
       "      <td>4</td>\n",
       "      <td>This was a fairly interesting read.  It had ol...</td>\n",
       "      <td>04 4, 2014</td>\n",
       "      <td>A795DMNCJILA6</td>\n",
       "      <td>dot</td>\n",
       "      <td>Oldie</td>\n",
       "      <td>1396569600</td>\n",
       "      <td>[fair, interest, read, old, styl, terminology,...</td>\n",
       "    </tr>\n",
       "    <tr>\n",
       "      <th>3</th>\n",
       "      <td>B000F83SZQ</td>\n",
       "      <td>[1, 1]</td>\n",
       "      <td>5</td>\n",
       "      <td>I would never read any of the Amy Brewster mys...</td>\n",
       "      <td>02 19, 2014</td>\n",
       "      <td>A1FV0SX13TWVXQ</td>\n",
       "      <td>Elaine H. Turley \"Montana Songbird\"</td>\n",
       "      <td>I really liked it.</td>\n",
       "      <td>1392768000</td>\n",
       "      <td>[would, nev, read, amy, brewst, mystery, on, r...</td>\n",
       "    </tr>\n",
       "    <tr>\n",
       "      <th>4</th>\n",
       "      <td>B000F83SZQ</td>\n",
       "      <td>[0, 1]</td>\n",
       "      <td>4</td>\n",
       "      <td>If you like period pieces - clothing, lingo, y...</td>\n",
       "      <td>03 19, 2014</td>\n",
       "      <td>A3SPTOKDG7WBLN</td>\n",
       "      <td>Father Dowling Fan</td>\n",
       "      <td>Period Mystery</td>\n",
       "      <td>1395187200</td>\n",
       "      <td>[lik, period, piec, cloth, lingo, enjoy, myste...</td>\n",
       "    </tr>\n",
       "  </tbody>\n",
       "</table>\n",
       "</div>"
      ],
      "text/plain": [
       "         asin helpful  overall  \\\n",
       "0  B000F83SZQ  [0, 0]        5   \n",
       "1  B000F83SZQ  [2, 2]        4   \n",
       "2  B000F83SZQ  [2, 2]        4   \n",
       "3  B000F83SZQ  [1, 1]        5   \n",
       "4  B000F83SZQ  [0, 1]        4   \n",
       "\n",
       "                                          reviewText   reviewTime  \\\n",
       "0  I enjoy vintage books and movies so I enjoyed ...   05 5, 2014   \n",
       "1  This book is a reissue of an old one; the auth...   01 6, 2014   \n",
       "2  This was a fairly interesting read.  It had ol...   04 4, 2014   \n",
       "3  I would never read any of the Amy Brewster mys...  02 19, 2014   \n",
       "4  If you like period pieces - clothing, lingo, y...  03 19, 2014   \n",
       "\n",
       "       reviewerID                         reviewerName             summary  \\\n",
       "0  A1F6404F1VG29J                           Avidreader  Nice vintage story   \n",
       "1   AN0N05A9LIJEQ                             critters        Different...   \n",
       "2   A795DMNCJILA6                                  dot               Oldie   \n",
       "3  A1FV0SX13TWVXQ  Elaine H. Turley \"Montana Songbird\"  I really liked it.   \n",
       "4  A3SPTOKDG7WBLN                   Father Dowling Fan      Period Mystery   \n",
       "\n",
       "   unixReviewTime                                              words  \n",
       "0      1399248000  [enjoy, vint, book, movy, enjoy, read, book, p...  \n",
       "1      1388966400  [book, reissu, old, on, auth, born, 1910, er, ...  \n",
       "2      1396569600  [fair, interest, read, old, styl, terminology,...  \n",
       "3      1392768000  [would, nev, read, amy, brewst, mystery, on, r...  \n",
       "4      1395187200  [lik, period, piec, cloth, lingo, enjoy, myste...  "
      ]
     },
     "metadata": {},
     "execution_count": 18
    }
   ],
   "metadata": {
    "colab": {
     "base_uri": "https://localhost:8080/",
     "height": 371
    },
    "id": "K-kzIdPNjanj",
    "outputId": "b9373079-54db-49be-d3d5-338baa4a060f"
   }
  },
  {
   "cell_type": "code",
   "execution_count": 19,
   "source": [
    "data_t['processed_message'] = data_t['words'].apply(lambda x: ' '.join(map(str, x)))\n",
    "data_t"
   ],
   "outputs": [
    {
     "output_type": "execute_result",
     "data": {
      "text/html": [
       "<div>\n",
       "<style scoped>\n",
       "    .dataframe tbody tr th:only-of-type {\n",
       "        vertical-align: middle;\n",
       "    }\n",
       "\n",
       "    .dataframe tbody tr th {\n",
       "        vertical-align: top;\n",
       "    }\n",
       "\n",
       "    .dataframe thead th {\n",
       "        text-align: right;\n",
       "    }\n",
       "</style>\n",
       "<table border=\"1\" class=\"dataframe\">\n",
       "  <thead>\n",
       "    <tr style=\"text-align: right;\">\n",
       "      <th></th>\n",
       "      <th>asin</th>\n",
       "      <th>helpful</th>\n",
       "      <th>overall</th>\n",
       "      <th>reviewText</th>\n",
       "      <th>reviewTime</th>\n",
       "      <th>reviewerID</th>\n",
       "      <th>reviewerName</th>\n",
       "      <th>summary</th>\n",
       "      <th>unixReviewTime</th>\n",
       "      <th>words</th>\n",
       "      <th>processed_message</th>\n",
       "    </tr>\n",
       "  </thead>\n",
       "  <tbody>\n",
       "    <tr>\n",
       "      <th>0</th>\n",
       "      <td>B000F83SZQ</td>\n",
       "      <td>[0, 0]</td>\n",
       "      <td>5</td>\n",
       "      <td>I enjoy vintage books and movies so I enjoyed ...</td>\n",
       "      <td>05 5, 2014</td>\n",
       "      <td>A1F6404F1VG29J</td>\n",
       "      <td>Avidreader</td>\n",
       "      <td>Nice vintage story</td>\n",
       "      <td>1399248000</td>\n",
       "      <td>[enjoy, vint, book, movy, enjoy, read, book, p...</td>\n",
       "      <td>enjoy vint book movy enjoy read book plot unus...</td>\n",
       "    </tr>\n",
       "    <tr>\n",
       "      <th>1</th>\n",
       "      <td>B000F83SZQ</td>\n",
       "      <td>[2, 2]</td>\n",
       "      <td>4</td>\n",
       "      <td>This book is a reissue of an old one; the auth...</td>\n",
       "      <td>01 6, 2014</td>\n",
       "      <td>AN0N05A9LIJEQ</td>\n",
       "      <td>critters</td>\n",
       "      <td>Different...</td>\n",
       "      <td>1388966400</td>\n",
       "      <td>[book, reissu, old, on, auth, born, 1910, er, ...</td>\n",
       "      <td>book reissu old on auth born 1910 er say nero ...</td>\n",
       "    </tr>\n",
       "    <tr>\n",
       "      <th>2</th>\n",
       "      <td>B000F83SZQ</td>\n",
       "      <td>[2, 2]</td>\n",
       "      <td>4</td>\n",
       "      <td>This was a fairly interesting read.  It had ol...</td>\n",
       "      <td>04 4, 2014</td>\n",
       "      <td>A795DMNCJILA6</td>\n",
       "      <td>dot</td>\n",
       "      <td>Oldie</td>\n",
       "      <td>1396569600</td>\n",
       "      <td>[fair, interest, read, old, styl, terminology,...</td>\n",
       "      <td>fair interest read old styl terminology glad g...</td>\n",
       "    </tr>\n",
       "    <tr>\n",
       "      <th>3</th>\n",
       "      <td>B000F83SZQ</td>\n",
       "      <td>[1, 1]</td>\n",
       "      <td>5</td>\n",
       "      <td>I would never read any of the Amy Brewster mys...</td>\n",
       "      <td>02 19, 2014</td>\n",
       "      <td>A1FV0SX13TWVXQ</td>\n",
       "      <td>Elaine H. Turley \"Montana Songbird\"</td>\n",
       "      <td>I really liked it.</td>\n",
       "      <td>1392768000</td>\n",
       "      <td>[would, nev, read, amy, brewst, mystery, on, r...</td>\n",
       "      <td>would nev read amy brewst mystery on real hook...</td>\n",
       "    </tr>\n",
       "    <tr>\n",
       "      <th>4</th>\n",
       "      <td>B000F83SZQ</td>\n",
       "      <td>[0, 1]</td>\n",
       "      <td>4</td>\n",
       "      <td>If you like period pieces - clothing, lingo, y...</td>\n",
       "      <td>03 19, 2014</td>\n",
       "      <td>A3SPTOKDG7WBLN</td>\n",
       "      <td>Father Dowling Fan</td>\n",
       "      <td>Period Mystery</td>\n",
       "      <td>1395187200</td>\n",
       "      <td>[lik, period, piec, cloth, lingo, enjoy, myste...</td>\n",
       "      <td>lik period piec cloth lingo enjoy mystery auth...</td>\n",
       "    </tr>\n",
       "    <tr>\n",
       "      <th>...</th>\n",
       "      <td>...</td>\n",
       "      <td>...</td>\n",
       "      <td>...</td>\n",
       "      <td>...</td>\n",
       "      <td>...</td>\n",
       "      <td>...</td>\n",
       "      <td>...</td>\n",
       "      <td>...</td>\n",
       "      <td>...</td>\n",
       "      <td>...</td>\n",
       "      <td>...</td>\n",
       "    </tr>\n",
       "    <tr>\n",
       "      <th>9995</th>\n",
       "      <td>B0030ZRWW6</td>\n",
       "      <td>[1, 5]</td>\n",
       "      <td>5</td>\n",
       "      <td>I am now half way through the 1st Book of the ...</td>\n",
       "      <td>06 14, 2011</td>\n",
       "      <td>AR9JVVLDADZFF</td>\n",
       "      <td>T. Fruge</td>\n",
       "      <td>A Refreshing Revival of a Classic Style!</td>\n",
       "      <td>1308009600</td>\n",
       "      <td>[half, way, 1st, book, delv, mag, sery, lov, r...</td>\n",
       "      <td>half way 1st book delv mag sery lov return ad ...</td>\n",
       "    </tr>\n",
       "    <tr>\n",
       "      <th>9996</th>\n",
       "      <td>B0030ZRWW6</td>\n",
       "      <td>[0, 0]</td>\n",
       "      <td>5</td>\n",
       "      <td>If you love the underdog (and I do) read the D...</td>\n",
       "      <td>08 27, 2012</td>\n",
       "      <td>A3TC982M87DQLO</td>\n",
       "      <td>The Arkenstone \"Village Witch\"</td>\n",
       "      <td>Grat Series!</td>\n",
       "      <td>1346025600</td>\n",
       "      <td>[lov, underdog, read, delv, sery, wel, writ, b...</td>\n",
       "      <td>lov underdog read delv sery wel writ book flow...</td>\n",
       "    </tr>\n",
       "    <tr>\n",
       "      <th>9997</th>\n",
       "      <td>B0030ZRWW6</td>\n",
       "      <td>[0, 0]</td>\n",
       "      <td>4</td>\n",
       "      <td>I love these books.  Yes, they can be a bit to...</td>\n",
       "      <td>08 19, 2012</td>\n",
       "      <td>A1TMFRRJUMWWYS</td>\n",
       "      <td>Tiffiny Sarradet \"To learn is to live\"</td>\n",
       "      <td>GREAT stories, PLEASE get an editor!</td>\n",
       "      <td>1345334400</td>\n",
       "      <td>[lov, book, ye, bit, pat, tim, charact, pretty...</td>\n",
       "      <td>lov book ye bit pat tim charact pretty predict...</td>\n",
       "    </tr>\n",
       "    <tr>\n",
       "      <th>9998</th>\n",
       "      <td>B0030ZRWW6</td>\n",
       "      <td>[0, 0]</td>\n",
       "      <td>5</td>\n",
       "      <td>I am reading it now.  do not know why I waited...</td>\n",
       "      <td>01 21, 2013</td>\n",
       "      <td>A3RRPAUD188REK</td>\n",
       "      <td>Timothy E. Winsley</td>\n",
       "      <td>good book.</td>\n",
       "      <td>1358726400</td>\n",
       "      <td>[read, know, wait, long, read, good, read, say...</td>\n",
       "      <td>read know wait long read good read say read kn...</td>\n",
       "    </tr>\n",
       "    <tr>\n",
       "      <th>9999</th>\n",
       "      <td>B0030ZRWY4</td>\n",
       "      <td>[0, 0]</td>\n",
       "      <td>5</td>\n",
       "      <td>Jeff Inlo followed up Delver Magic Book I: San...</td>\n",
       "      <td>03 2, 2012</td>\n",
       "      <td>A15J941FEVS98W</td>\n",
       "      <td>Amazon Customer \"Building your profits throug...</td>\n",
       "      <td>Jeff Inlo Develops the Magic in Delver Magic B...</td>\n",
       "      <td>1330646400</td>\n",
       "      <td>[jeff, inlo, follow, delv, mag, book, sanct, b...</td>\n",
       "      <td>jeff inlo follow delv mag book sanct breach fa...</td>\n",
       "    </tr>\n",
       "  </tbody>\n",
       "</table>\n",
       "<p>10000 rows × 11 columns</p>\n",
       "</div>"
      ],
      "text/plain": [
       "            asin helpful  overall  \\\n",
       "0     B000F83SZQ  [0, 0]        5   \n",
       "1     B000F83SZQ  [2, 2]        4   \n",
       "2     B000F83SZQ  [2, 2]        4   \n",
       "3     B000F83SZQ  [1, 1]        5   \n",
       "4     B000F83SZQ  [0, 1]        4   \n",
       "...          ...     ...      ...   \n",
       "9995  B0030ZRWW6  [1, 5]        5   \n",
       "9996  B0030ZRWW6  [0, 0]        5   \n",
       "9997  B0030ZRWW6  [0, 0]        4   \n",
       "9998  B0030ZRWW6  [0, 0]        5   \n",
       "9999  B0030ZRWY4  [0, 0]        5   \n",
       "\n",
       "                                             reviewText   reviewTime  \\\n",
       "0     I enjoy vintage books and movies so I enjoyed ...   05 5, 2014   \n",
       "1     This book is a reissue of an old one; the auth...   01 6, 2014   \n",
       "2     This was a fairly interesting read.  It had ol...   04 4, 2014   \n",
       "3     I would never read any of the Amy Brewster mys...  02 19, 2014   \n",
       "4     If you like period pieces - clothing, lingo, y...  03 19, 2014   \n",
       "...                                                 ...          ...   \n",
       "9995  I am now half way through the 1st Book of the ...  06 14, 2011   \n",
       "9996  If you love the underdog (and I do) read the D...  08 27, 2012   \n",
       "9997  I love these books.  Yes, they can be a bit to...  08 19, 2012   \n",
       "9998  I am reading it now.  do not know why I waited...  01 21, 2013   \n",
       "9999  Jeff Inlo followed up Delver Magic Book I: San...   03 2, 2012   \n",
       "\n",
       "          reviewerID                                      reviewerName  \\\n",
       "0     A1F6404F1VG29J                                        Avidreader   \n",
       "1      AN0N05A9LIJEQ                                          critters   \n",
       "2      A795DMNCJILA6                                               dot   \n",
       "3     A1FV0SX13TWVXQ               Elaine H. Turley \"Montana Songbird\"   \n",
       "4     A3SPTOKDG7WBLN                                Father Dowling Fan   \n",
       "...              ...                                               ...   \n",
       "9995   AR9JVVLDADZFF                                          T. Fruge   \n",
       "9996  A3TC982M87DQLO                    The Arkenstone \"Village Witch\"   \n",
       "9997  A1TMFRRJUMWWYS            Tiffiny Sarradet \"To learn is to live\"   \n",
       "9998  A3RRPAUD188REK                                Timothy E. Winsley   \n",
       "9999  A15J941FEVS98W  Amazon Customer \"Building your profits throug...   \n",
       "\n",
       "                                                summary  unixReviewTime  \\\n",
       "0                                    Nice vintage story      1399248000   \n",
       "1                                          Different...      1388966400   \n",
       "2                                                 Oldie      1396569600   \n",
       "3                                    I really liked it.      1392768000   \n",
       "4                                        Period Mystery      1395187200   \n",
       "...                                                 ...             ...   \n",
       "9995           A Refreshing Revival of a Classic Style!      1308009600   \n",
       "9996                                       Grat Series!      1346025600   \n",
       "9997               GREAT stories, PLEASE get an editor!      1345334400   \n",
       "9998                                         good book.      1358726400   \n",
       "9999  Jeff Inlo Develops the Magic in Delver Magic B...      1330646400   \n",
       "\n",
       "                                                  words  \\\n",
       "0     [enjoy, vint, book, movy, enjoy, read, book, p...   \n",
       "1     [book, reissu, old, on, auth, born, 1910, er, ...   \n",
       "2     [fair, interest, read, old, styl, terminology,...   \n",
       "3     [would, nev, read, amy, brewst, mystery, on, r...   \n",
       "4     [lik, period, piec, cloth, lingo, enjoy, myste...   \n",
       "...                                                 ...   \n",
       "9995  [half, way, 1st, book, delv, mag, sery, lov, r...   \n",
       "9996  [lov, underdog, read, delv, sery, wel, writ, b...   \n",
       "9997  [lov, book, ye, bit, pat, tim, charact, pretty...   \n",
       "9998  [read, know, wait, long, read, good, read, say...   \n",
       "9999  [jeff, inlo, follow, delv, mag, book, sanct, b...   \n",
       "\n",
       "                                      processed_message  \n",
       "0     enjoy vint book movy enjoy read book plot unus...  \n",
       "1     book reissu old on auth born 1910 er say nero ...  \n",
       "2     fair interest read old styl terminology glad g...  \n",
       "3     would nev read amy brewst mystery on real hook...  \n",
       "4     lik period piec cloth lingo enjoy mystery auth...  \n",
       "...                                                 ...  \n",
       "9995  half way 1st book delv mag sery lov return ad ...  \n",
       "9996  lov underdog read delv sery wel writ book flow...  \n",
       "9997  lov book ye bit pat tim charact pretty predict...  \n",
       "9998  read know wait long read good read say read kn...  \n",
       "9999  jeff inlo follow delv mag book sanct breach fa...  \n",
       "\n",
       "[10000 rows x 11 columns]"
      ]
     },
     "metadata": {},
     "execution_count": 19
    }
   ],
   "metadata": {
    "colab": {
     "base_uri": "https://localhost:8080/",
     "height": 1000
    },
    "id": "_6-nEwlqjnHH",
    "outputId": "6d27d19f-5f5d-46f0-ad03-737eac96a09a"
   }
  },
  {
   "cell_type": "code",
   "execution_count": 20,
   "source": [
    "# a partir del arreglo que se encuentra en la columna helpful se obtiene un numero que lo representa.\n",
    "#en este sentido, [2,3] = 2/3 = 0.667\n",
    "\n",
    "def calcularHelpful(array):\n",
    "  numerador = int(array[0])\n",
    "  denominador = int(array[1])\n",
    "  if(denominador == 0 & numerador == 0):\n",
    "    return 0\n",
    "  else:\n",
    "    return float(numerador/denominador)\n",
    "\n"
   ],
   "outputs": [],
   "metadata": {
    "id": "LDfTnXp0cOho"
   }
  },
  {
   "cell_type": "code",
   "execution_count": 21,
   "source": [
    "data_test = data_t.copy()\n"
   ],
   "outputs": [],
   "metadata": {
    "id": "OC_O4wSPdZMt"
   }
  },
  {
   "cell_type": "code",
   "execution_count": 22,
   "source": [
    "#reviso que todo este bien\n",
    "data_test.iloc[9995]"
   ],
   "outputs": [
    {
     "output_type": "execute_result",
     "data": {
      "text/plain": [
       "asin                                                        B0030ZRWW6\n",
       "helpful                                                         [1, 5]\n",
       "overall                                                              5\n",
       "reviewText           I am now half way through the 1st Book of the ...\n",
       "reviewTime                                                 06 14, 2011\n",
       "reviewerID                                               AR9JVVLDADZFF\n",
       "reviewerName                                                  T. Fruge\n",
       "summary                       A Refreshing Revival of a Classic Style!\n",
       "unixReviewTime                                              1308009600\n",
       "words                [half, way, 1st, book, delv, mag, sery, lov, r...\n",
       "processed_message    half way 1st book delv mag sery lov return ad ...\n",
       "Name: 9995, dtype: object"
      ]
     },
     "metadata": {},
     "execution_count": 22
    }
   ],
   "metadata": {
    "colab": {
     "base_uri": "https://localhost:8080/"
    },
    "id": "-elzmCCroYyv",
    "outputId": "5412c249-2b58-4008-b4da-910e60205081"
   }
  },
  {
   "cell_type": "code",
   "execution_count": 23,
   "source": [
    "#proceso la información de helpful\n",
    "data_test['helpful_chevere'] = data_test.helpful.apply(lambda x: x.replace(' ',''))\n",
    "data_test['helpful_chevere'] = data_test.helpful_chevere.apply(lambda x: x[1:-1].split(','))"
   ],
   "outputs": [],
   "metadata": {
    "id": "ufCna_mWoiak"
   }
  },
  {
   "cell_type": "code",
   "execution_count": 24,
   "source": [
    "data_test['helpful_chevere'][9995][1]"
   ],
   "outputs": [
    {
     "output_type": "execute_result",
     "data": {
      "text/plain": [
       "'5'"
      ]
     },
     "metadata": {},
     "execution_count": 24
    }
   ],
   "metadata": {
    "colab": {
     "base_uri": "https://localhost:8080/",
     "height": 35
    },
    "id": "rBZdMKFhpClA",
    "outputId": "b7d3b96d-23bf-49b8-8833-654efda0b5a3"
   }
  },
  {
   "cell_type": "code",
   "execution_count": 25,
   "source": [
    "int(data_test['helpful_chevere'][9995][1])"
   ],
   "outputs": [
    {
     "output_type": "execute_result",
     "data": {
      "text/plain": [
       "5"
      ]
     },
     "metadata": {},
     "execution_count": 25
    }
   ],
   "metadata": {
    "colab": {
     "base_uri": "https://localhost:8080/"
    },
    "id": "U1HLfGDT-Gf_",
    "outputId": "6c52ea66-3db7-47ba-f9b9-825c13d0ead5"
   }
  },
  {
   "cell_type": "code",
   "execution_count": 26,
   "source": [
    "data_test['helpful_calculado'] = data_test.helpful_chevere.apply(lambda s:  calcularHelpful(s))"
   ],
   "outputs": [],
   "metadata": {
    "id": "g1c2f6jo2rtT"
   }
  },
  {
   "cell_type": "code",
   "execution_count": 27,
   "source": [
    "#X_data, y_data = data_t['processed_message'],data_t['reviewText']\n",
    "X_data, y_data = data_test['processed_message'],data_test['helpful_calculado']\n",
    "y_data = (y_data >= 0.5).astype(int)\n",
    "y_data"
   ],
   "outputs": [
    {
     "output_type": "execute_result",
     "data": {
      "text/plain": [
       "0       0\n",
       "1       1\n",
       "2       1\n",
       "3       1\n",
       "4       0\n",
       "       ..\n",
       "9995    0\n",
       "9996    0\n",
       "9997    0\n",
       "9998    0\n",
       "9999    0\n",
       "Name: helpful_calculado, Length: 10000, dtype: int64"
      ]
     },
     "metadata": {},
     "execution_count": 27
    }
   ],
   "metadata": {
    "colab": {
     "base_uri": "https://localhost:8080/"
    },
    "id": "B8MLlj3Gj7yw",
    "outputId": "52ebbfaa-385a-4984-850a-0f750130a842"
   }
  },
  {
   "cell_type": "code",
   "execution_count": 28,
   "source": [
    "print(pd.__version__) \n"
   ],
   "outputs": [
    {
     "output_type": "stream",
     "name": "stdout",
     "text": [
      "1.3.3\n"
     ]
    }
   ],
   "metadata": {
    "colab": {
     "base_uri": "https://localhost:8080/"
    },
    "id": "F-W-29HZXQwP",
    "outputId": "2f8d229b-41dd-40b3-d630-a73143ae0ff6"
   }
  },
  {
   "cell_type": "code",
   "execution_count": 102,
   "source": [
    "df = data_test.copy()"
   ],
   "outputs": [],
   "metadata": {}
  },
  {
   "cell_type": "code",
   "execution_count": 103,
   "source": [
    "df['helpful_calculado'] =  (df['helpful_calculado'] >= 0.5).astype(int)"
   ],
   "outputs": [],
   "metadata": {}
  },
  {
   "cell_type": "code",
   "execution_count": 104,
   "source": [
    "# saving as a CSV file\n",
    "df.to_csv('datos-.csv', sep ='\\t')"
   ],
   "outputs": [],
   "metadata": {}
  },
  {
   "cell_type": "code",
   "execution_count": 29,
   "source": [
    "# X_data, y_data = data_t['processed_message'],data_t['helpful']\n",
    "# #X_data, y_data = data_t['processed_message'],data_t['helpful']\n",
    "# y_data = (y_data == 'helpful').astype(int)\n",
    "# y_data"
   ],
   "outputs": [],
   "metadata": {
    "id": "sweKT830bhHv"
   }
  },
  {
   "cell_type": "markdown",
   "source": [
    "# Representación en matriz de conteo\n",
    "\n"
   ],
   "metadata": {
    "id": "nLHzzRW5kYXT"
   }
  },
  {
   "cell_type": "code",
   "execution_count": 30,
   "source": [
    "count = CountVectorizer()\n",
    "X_count = count.fit_transform(X_data)\n",
    "print(X_count.shape)\n",
    "X_count.toarray()[0]"
   ],
   "outputs": [
    {
     "output_type": "stream",
     "name": "stdout",
     "text": [
      "(10000, 43071)\n"
     ]
    },
    {
     "output_type": "execute_result",
     "data": {
      "text/plain": [
       "array([0, 0, 0, ..., 0, 0, 0])"
      ]
     },
     "metadata": {},
     "execution_count": 30
    }
   ],
   "metadata": {
    "colab": {
     "base_uri": "https://localhost:8080/"
    },
    "id": "-9nqfAIxkXlV",
    "outputId": "5384bfaa-19c1-4ba2-c10e-e63cc280d01a"
   }
  },
  {
   "cell_type": "markdown",
   "source": [
    "matriz binaria"
   ],
   "metadata": {
    "id": "J1GboCmQ7d1x"
   }
  },
  {
   "cell_type": "code",
   "execution_count": 31,
   "source": [
    "vectorizer = HashingVectorizer(n_features=2**4)\n",
    "X_bin = vectorizer.fit_transform(X_data)\n",
    "print(X_bin.shape)\n",
    "#.toarray()[0]"
   ],
   "outputs": [
    {
     "output_type": "stream",
     "name": "stdout",
     "text": [
      "(10000, 16)\n"
     ]
    }
   ],
   "metadata": {
    "colab": {
     "base_uri": "https://localhost:8080/"
    },
    "id": "y24-sCkx7iFa",
    "outputId": "237ae39f-e058-4735-9e0f-327fd8912f51"
   }
  },
  {
   "cell_type": "code",
   "execution_count": 32,
   "source": [
    "X_bin.todense()"
   ],
   "outputs": [
    {
     "output_type": "execute_result",
     "data": {
      "text/plain": [
       "matrix([[-0.09128709,  0.36514837, -0.09128709, ...,  0.18257419,\n",
       "          0.63900965, -0.36514837],\n",
       "        [-0.13736056,  0.20604085,  0.        , ...,  0.        ,\n",
       "          0.48076197,  0.        ],\n",
       "        [-0.08512565, -0.08512565,  0.34050261, ..., -0.17025131,\n",
       "          0.17025131, -0.34050261],\n",
       "        ...,\n",
       "        [-0.29793979,  0.17025131, -0.04256283, ...,  0.34050261,\n",
       "          0.12768848, -0.34050261],\n",
       "        [ 0.        ,  0.        ,  0.        , ...,  0.        ,\n",
       "          0.        , -0.81649658],\n",
       "        [-0.05345225, -0.1069045 ,  0.05345225, ...,  0.        ,\n",
       "          0.74833148,  0.16035675]])"
      ]
     },
     "metadata": {},
     "execution_count": 32
    }
   ],
   "metadata": {
    "colab": {
     "base_uri": "https://localhost:8080/"
    },
    "id": "yV0e6Qyh7wZ_",
    "outputId": "fcd722a6-931c-4661-9ac5-2f71233a05f5"
   }
  },
  {
   "cell_type": "markdown",
   "source": [
    "Matriz TF-ID"
   ],
   "metadata": {
    "id": "X3aAkl5i7tiQ"
   }
  },
  {
   "cell_type": "code",
   "execution_count": 33,
   "source": [
    "vectorizer = TfidfVectorizer()\n",
    "X_TIFID = vectorizer.fit_transform(X_data)\n",
    "vectorizer.get_feature_names()[96]"
   ],
   "outputs": [
    {
     "output_type": "execute_result",
     "data": {
      "text/plain": [
       "'1890'"
      ]
     },
     "metadata": {},
     "execution_count": 33
    }
   ],
   "metadata": {
    "colab": {
     "base_uri": "https://localhost:8080/",
     "height": 35
    },
    "id": "LcyIPwWU71hy",
    "outputId": "41d83a4f-58c1-47a4-8d79-e564f4156930"
   }
  },
  {
   "cell_type": "code",
   "execution_count": 34,
   "source": [
    "X_TIFID.todense()"
   ],
   "outputs": [
    {
     "output_type": "execute_result",
     "data": {
      "text/plain": [
       "matrix([[0., 0., 0., ..., 0., 0., 0.],\n",
       "        [0., 0., 0., ..., 0., 0., 0.],\n",
       "        [0., 0., 0., ..., 0., 0., 0.],\n",
       "        ...,\n",
       "        [0., 0., 0., ..., 0., 0., 0.],\n",
       "        [0., 0., 0., ..., 0., 0., 0.],\n",
       "        [0., 0., 0., ..., 0., 0., 0.]])"
      ]
     },
     "metadata": {},
     "execution_count": 34
    }
   ],
   "metadata": {
    "colab": {
     "base_uri": "https://localhost:8080/"
    },
    "id": "ra3hSXqk73ZF",
    "outputId": "ea63c937-fc1b-4c20-bd18-97a30dba6b30"
   }
  },
  {
   "cell_type": "markdown",
   "source": [
    "# Modelo de clasificación"
   ],
   "metadata": {
    "id": "u8XlXAHvk1Mh"
   }
  },
  {
   "cell_type": "code",
   "execution_count": 35,
   "source": [
    "#Dividir las variables de entrenamiento\n",
    "\n",
    "X = X_count\n",
    "#Variable objetivo\n",
    "Y = y_data\n",
    "\n",
    "\n",
    "# Dividir los datos en entrenamiento y test\n",
    "X_train, X_test, Y_train, Y_test = train_test_split(X, Y, test_size = 0.2)"
   ],
   "outputs": [],
   "metadata": {
    "id": "9ubHKMgHk3sY"
   }
  },
  {
   "cell_type": "markdown",
   "source": [
    "# Decision Tree Classifier"
   ],
   "metadata": {
    "id": "xFcyZkkhmJBP"
   }
  },
  {
   "cell_type": "code",
   "execution_count": 36,
   "source": [
    "arbol = DecisionTreeClassifier(criterion = 'gini', max_depth = 8)"
   ],
   "outputs": [],
   "metadata": {
    "id": "RNLHQkSOmgkV"
   }
  },
  {
   "cell_type": "code",
   "execution_count": 37,
   "source": [
    "arbol = arbol.fit(X= X_train, y = Y_train)"
   ],
   "outputs": [],
   "metadata": {
    "id": "3zGmVEFSmgxI"
   }
  },
  {
   "cell_type": "code",
   "execution_count": 38,
   "source": [
    "#https://ai.plainenglish.io/hyperparameter-tuning-of-decision-tree-classifier-using-gridsearchcv-2a6ebcaffeda\n",
    "param_dict = {\n",
    "    \"criterion\":['gini','entropy'],\n",
    "    \"max_depth\": range(1,10),\n",
    "    \"min_samples_split\":range(2,10),\n",
    "    \"min_samples_leaf\":range(1,5)\n",
    "}"
   ],
   "outputs": [],
   "metadata": {
    "id": "p-8IshCrmgz_"
   }
  },
  {
   "cell_type": "code",
   "execution_count": 40,
   "source": [
    "grid = GridSearchCV(\n",
    "                    arbol,\n",
    "                    param_grid = param_dict,\n",
    "                    cv = 10,\n",
    "                    verbose = 1,\n",
    "                    n_jobs = 1\n",
    ")\n",
    "grid.fit(X_test, Y_test)"
   ],
   "outputs": [
    {
     "output_type": "stream",
     "name": "stdout",
     "text": [
      "Fitting 10 folds for each of 576 candidates, totalling 5760 fits\n"
     ]
    },
    {
     "output_type": "execute_result",
     "data": {
      "text/plain": [
       "GridSearchCV(cv=10, estimator=DecisionTreeClassifier(max_depth=8), n_jobs=1,\n",
       "             param_grid={'criterion': ['gini', 'entropy'],\n",
       "                         'max_depth': range(1, 10),\n",
       "                         'min_samples_leaf': range(1, 5),\n",
       "                         'min_samples_split': range(2, 10)},\n",
       "             verbose=1)"
      ]
     },
     "metadata": {},
     "execution_count": 40
    }
   ],
   "metadata": {
    "colab": {
     "base_uri": "https://localhost:8080/"
    },
    "id": "adS-5hyZmg3g",
    "outputId": "05243831-b70f-4f73-984b-3b42d90dde9e"
   }
  },
  {
   "cell_type": "code",
   "execution_count": 41,
   "source": [
    "grid.best_params_"
   ],
   "outputs": [
    {
     "output_type": "execute_result",
     "data": {
      "text/plain": [
       "{'criterion': 'entropy',\n",
       " 'max_depth': 7,\n",
       " 'min_samples_leaf': 4,\n",
       " 'min_samples_split': 9}"
      ]
     },
     "metadata": {},
     "execution_count": 41
    }
   ],
   "metadata": {
    "colab": {
     "base_uri": "https://localhost:8080/"
    },
    "id": "iaJOOUX-mg6O",
    "outputId": "a2dc5fe2-a256-4ec6-f27b-571e906bd262"
   }
  },
  {
   "cell_type": "code",
   "execution_count": 43,
   "source": [
    "grid.best_estimator_"
   ],
   "outputs": [
    {
     "output_type": "execute_result",
     "data": {
      "text/plain": [
       "DecisionTreeClassifier(criterion='entropy', max_depth=7, min_samples_leaf=4,\n",
       "                       min_samples_split=9)"
      ]
     },
     "metadata": {},
     "execution_count": 43
    }
   ],
   "metadata": {
    "colab": {
     "base_uri": "https://localhost:8080/"
    },
    "id": "qn_zwST1mg9N",
    "outputId": "4ee05e55-661c-4158-d2a6-369c046214c9"
   }
  },
  {
   "cell_type": "code",
   "execution_count": 44,
   "source": [
    "grid.best_score_"
   ],
   "outputs": [
    {
     "output_type": "execute_result",
     "data": {
      "text/plain": [
       "0.6505"
      ]
     },
     "metadata": {},
     "execution_count": 44
    }
   ],
   "metadata": {
    "colab": {
     "base_uri": "https://localhost:8080/"
    },
    "id": "abv_EwvPmhBg",
    "outputId": "db728db6-679b-4d53-fecf-2a7e3bbbaf5f"
   }
  },
  {
   "cell_type": "code",
   "execution_count": 79,
   "source": [
    "arbol = DecisionTreeClassifier(criterion='entropy', max_depth=7, min_samples_leaf=4,\n",
    "                       min_samples_split=9)"
   ],
   "outputs": [],
   "metadata": {
    "id": "3jq6DvT_mhFI"
   }
  },
  {
   "cell_type": "code",
   "execution_count": 80,
   "source": [
    "arbol = arbol.fit(X= X_train, y = Y_train)"
   ],
   "outputs": [],
   "metadata": {
    "id": "lRInMTIxsLcv"
   }
  },
  {
   "cell_type": "code",
   "execution_count": 81,
   "source": [
    "# Determinamos las predicciones del modelo sobre el conjunto test.\n",
    "y_pred = arbol.predict(X_test)"
   ],
   "outputs": [],
   "metadata": {
    "id": "jtfj9qaJsLkf"
   }
  },
  {
   "cell_type": "code",
   "execution_count": 87,
   "source": [
    "#MAtriz de confusión\n",
    "confusion_matrix(Y_test, y_pred)\n",
    "\n",
    "print(classification_report(Y_test, y_pred))"
   ],
   "outputs": [
    {
     "output_type": "stream",
     "name": "stdout",
     "text": [
      "              precision    recall  f1-score   support\n",
      "\n",
      "           0       0.65      0.91      0.76      1218\n",
      "           1       0.63      0.25      0.35       782\n",
      "\n",
      "    accuracy                           0.65      2000\n",
      "   macro avg       0.64      0.58      0.56      2000\n",
      "weighted avg       0.64      0.65      0.60      2000\n",
      "\n"
     ]
    }
   ],
   "metadata": {
    "colab": {
     "base_uri": "https://localhost:8080/"
    },
    "id": "NK7GOlbxsLpc",
    "outputId": "de6ae50c-8f9f-4c45-a744-756bc533965d"
   }
  },
  {
   "cell_type": "code",
   "execution_count": 88,
   "source": [
    "# Grafica la matriz de confusión\n",
    "plot_confusion_matrix(arbol, X_test, Y_test)  \n",
    "plt.show()"
   ],
   "outputs": [
    {
     "output_type": "display_data",
     "data": {
      "image/png": "[encoded data removed]",
      "text/plain": [
       "<Figure size 432x288 with 2 Axes>"
      ]
     },
     "metadata": {
      "needs_background": "light"
     }
    }
   ],
   "metadata": {
    "id": "JHm1i0WBsOyz"
   }
  },
  {
   "cell_type": "code",
   "execution_count": 89,
   "source": [
    "f1_score(y_true = Y_test, y_pred = y_pred)"
   ],
   "outputs": [
    {
     "output_type": "execute_result",
     "data": {
      "text/plain": [
       "0.35326586936522536"
      ]
     },
     "metadata": {},
     "execution_count": 89
    }
   ],
   "metadata": {
    "colab": {
     "base_uri": "https://localhost:8080/"
    },
    "id": "5RGbbKX6sO-A",
    "outputId": "74a85853-6ebb-48e9-d9f7-a749140c2e88"
   }
  },
  {
   "cell_type": "code",
   "execution_count": 90,
   "source": [
    "# Mostrar reporte de clasificación\n",
    "\n",
    "\n",
    "print('Train')\n",
    "print(classification_report(Y_train, y_pred_train))\n",
    "print(\"------------\")\n",
    "print('Test')\n",
    "print(classification_report(Y_test, y_pred_test))"
   ],
   "outputs": [
    {
     "output_type": "stream",
     "name": "stdout",
     "text": [
      "Train\n",
      "              precision    recall  f1-score   support\n",
      "\n",
      "           0       0.69      0.94      0.79      4941\n",
      "           1       0.75      0.31      0.44      3059\n",
      "\n",
      "    accuracy                           0.70      8000\n",
      "   macro avg       0.72      0.62      0.62      8000\n",
      "weighted avg       0.71      0.70      0.66      8000\n",
      "\n",
      "------------\n",
      "Test\n",
      "              precision    recall  f1-score   support\n",
      "\n",
      "           0       0.65      0.91      0.76      1218\n",
      "           1       0.63      0.25      0.35       782\n",
      "\n",
      "    accuracy                           0.65      2000\n",
      "   macro avg       0.64      0.58      0.56      2000\n",
      "weighted avg       0.64      0.65      0.60      2000\n",
      "\n"
     ]
    }
   ],
   "metadata": {}
  },
  {
   "cell_type": "code",
   "execution_count": 86,
   "source": [
    "y_pred_train = arbol.predict(X_train)\n",
    "y_pred_test = arbol.predict(X_test)\n",
    "print('Exactitud sobre entrenamiento: %.3f' % accuracy_score(Y_train, y_pred_train))\n",
    "print('Exactitud sobre test: %.3f' % accuracy_score(Y_test, y_pred_test))"
   ],
   "outputs": [
    {
     "output_type": "stream",
     "name": "stdout",
     "text": [
      "Exactitud sobre entrenamiento: 0.696\n",
      "Exactitud sobre test: 0.648\n"
     ]
    }
   ],
   "metadata": {}
  },
  {
   "cell_type": "markdown",
   "source": [
    "# KNN Classifier"
   ],
   "metadata": {
    "id": "PnV-ivWMmMuz"
   }
  },
  {
   "cell_type": "code",
   "execution_count": 51,
   "source": [
    "#number_cols = data_t.dtypes[(data_t.dtypes == np.int64) | (data_t.dtypes == np.float64)].index \n",
    "#number_cols = data_t.select_dtypes(include = ['int64','float']).columns\n",
    "#number_cols"
   ],
   "outputs": [],
   "metadata": {
    "id": "APedrAVUmhpj"
   }
  },
  {
   "cell_type": "code",
   "execution_count": 52,
   "source": [
    "#data_m = data_t['number_cols']"
   ],
   "outputs": [],
   "metadata": {
    "id": "CVdmHqB-mhsc"
   }
  },
  {
   "cell_type": "code",
   "execution_count": 53,
   "source": [
    "#Normalización de datos\n",
    "#normalized_df = (data_m - data_m.min())/(data_m.max() - data_m.min())\n",
    "#normalized_df.describe()"
   ],
   "outputs": [],
   "metadata": {
    "id": "7WKg32AQmhvW"
   }
  },
  {
   "cell_type": "code",
   "execution_count": 91,
   "source": [
    "# https://scikit-learn.org/stable/modules/generated/sklearn.neighbors.KNeighborsClassifier.html\n",
    "\n",
    "k = KFold(shuffle=True, random_state = seed)\n",
    "# Lista de Hiperparámetros a afinar\n",
    "n_neighbors = list(range(1,10))\n",
    "p=[1,2] #Función de distancia 1: manhattan, 2: euclidean, otro valor: minkowski\n",
    "\n",
    "#Convert to dictionary\n",
    "hyperparameters = dict(n_neighbors=n_neighbors, p=p)\n",
    "\n",
    "#Create new KNN object\n",
    "knn_2 = KNeighborsClassifier()\n",
    "\n",
    "#Use GridSearch\n",
    "mejor_modelo_knn = GridSearchCV(knn_2, hyperparameters, cv=k)\n",
    "\n",
    "#Fit the model\n",
    "mejor_modelo_knn.fit(X_train, Y_train)\n",
    "\n",
    "#Print The value of best Hyperparameters\n",
    "print('Best p:', mejor_modelo_knn.best_estimator_.get_params()['p'])\n",
    "print('Best n_neighbors:', mejor_modelo_knn.best_estimator_.get_params()['n_neighbors'])\n",
    "\n",
    "# Obtener el mejor modelo.\n",
    "neigh_final = mejor_modelo_knn.best_estimator_\n",
    "# Probemos ahora este modelo sobre test.\n",
    "y_pred_train = neigh_final.predict(X_train)\n",
    "y_pred_test = neigh_final.predict(X_test)\n",
    "print('Exactitud sobre entrenamiento: %.2f' % accuracy_score(Y_train, y_pred_train))\n",
    "print('Exactitud sobre test: %.2f' % accuracy_score(Y_test, y_pred_test))"
   ],
   "outputs": [
    {
     "output_type": "stream",
     "name": "stdout",
     "text": [
      "Best p: 2\n",
      "Best n_neighbors: 5\n",
      "Exactitud sobre entrenamiento: 0.69\n",
      "Exactitud sobre test: 0.62\n"
     ]
    }
   ],
   "metadata": {
    "colab": {
     "background_save": true
    },
    "id": "ir_O-HQxmhx9",
    "outputId": "702e1c92-17f5-42be-d139-6cc5f214ed06"
   }
  },
  {
   "cell_type": "code",
   "execution_count": 93,
   "source": [
    "\n",
    "#Y = data_t['helpful']\n",
    "#X = data_t.drop(['helpful', 'helpful'], axis=1)\n",
    "\n",
    "X_train, X_test, Y_train, Y_test = train_test_split(X, Y, test_size=0.2, random_state=seed)\n",
    "neigh = KNeighborsClassifier(n_neighbors=5,p = 2)\n",
    "neigh = neigh.fit(X_train, Y_train) \n",
    "y_pred = neigh.predict(X_test) \n",
    "\n",
    "#Matriz de confusión\n",
    "confusion_matrix(Y_test, y_pred)"
   ],
   "outputs": [
    {
     "output_type": "execute_result",
     "data": {
      "text/plain": [
       "array([[1161,   57],\n",
       "       [ 711,   71]])"
      ]
     },
     "metadata": {},
     "execution_count": 93
    }
   ],
   "metadata": {
    "colab": {
     "base_uri": "https://localhost:8080/"
    },
    "id": "qpdupGbPmh0q",
    "outputId": "6b5a7202-0c6b-4617-98a4-0f4f2cf94b6f"
   }
  },
  {
   "cell_type": "code",
   "execution_count": 94,
   "source": [
    "# Grafica la matriz de confusión\n",
    "plot_confusion_matrix(neigh, X_test, Y_test)  \n",
    "plt.show()"
   ],
   "outputs": [
    {
     "output_type": "display_data",
     "data": {
      "image/png": "[encoded data removed]",
      "text/plain": [
       "<Figure size 432x288 with 2 Axes>"
      ]
     },
     "metadata": {
      "needs_background": "light"
     }
    }
   ],
   "metadata": {
    "id": "-plx8eHV3_un"
   }
  },
  {
   "cell_type": "code",
   "execution_count": 95,
   "source": [
    "# Mostrar reporte de clasificación\n",
    "\n",
    "\n",
    "print('Train')\n",
    "print(classification_report(Y_train, y_pred_train))\n",
    "print(\"------------\")\n",
    "print('Test')\n",
    "print(classification_report(Y_test, y_pred_test))\n",
    "\n",
    "#print(\"F1 Score:\")\n",
    "#f1_score(y_true = Y_test, y_pred = y_pred)"
   ],
   "outputs": [
    {
     "output_type": "stream",
     "name": "stdout",
     "text": [
      "Train\n",
      "              precision    recall  f1-score   support\n",
      "\n",
      "           0       0.67      0.98      0.80      4941\n",
      "           1       0.87      0.22      0.35      3059\n",
      "\n",
      "    accuracy                           0.69      8000\n",
      "   macro avg       0.77      0.60      0.57      8000\n",
      "weighted avg       0.75      0.69      0.63      8000\n",
      "\n",
      "------------\n",
      "Test\n",
      "              precision    recall  f1-score   support\n",
      "\n",
      "           0       0.62      0.95      0.75      1218\n",
      "           1       0.55      0.09      0.16       782\n",
      "\n",
      "    accuracy                           0.62      2000\n",
      "   macro avg       0.59      0.52      0.45      2000\n",
      "weighted avg       0.59      0.62      0.52      2000\n",
      "\n"
     ]
    }
   ],
   "metadata": {
    "colab": {
     "base_uri": "https://localhost:8080/"
    },
    "id": "iXkpAwdd4EJl",
    "outputId": "6bb6f63a-0d10-4bdb-be41-ad38a331c226"
   }
  },
  {
   "cell_type": "code",
   "execution_count": 96,
   "source": [
    "print(\"F1-Score:\")\n",
    "f1_score(y_true = Y_test, y_pred = y_pred)"
   ],
   "outputs": [
    {
     "output_type": "stream",
     "name": "stdout",
     "text": [
      "F1-Score:\n"
     ]
    },
    {
     "output_type": "execute_result",
     "data": {
      "text/plain": [
       "0.15604395604395604"
      ]
     },
     "metadata": {},
     "execution_count": 96
    }
   ],
   "metadata": {}
  },
  {
   "cell_type": "markdown",
   "source": [
    "# SVC Classifier"
   ],
   "metadata": {
    "id": "w-M2ZqQcmRMz"
   }
  },
  {
   "cell_type": "markdown",
   "source": [
    "en primer lugar se hace una búsqueda de hiperperámetros usando KFold"
   ],
   "metadata": {
    "id": "VuYUXlqTiaMI"
   }
  },
  {
   "cell_type": "code",
   "execution_count": 58,
   "source": [
    "particiones = KFold(n_splits=10, shuffle=True, random_state = seed)"
   ],
   "outputs": [],
   "metadata": {
    "id": "490-2u0mmimb"
   }
  },
  {
   "cell_type": "code",
   "execution_count": 59,
   "source": [
    "#se establece el espacio de busqueda\n",
    "param_grid = {'kernel':['linear', 'poly','rbf']}"
   ],
   "outputs": [],
   "metadata": {
    "id": "ycVGayNgmipY"
   }
  },
  {
   "cell_type": "code",
   "execution_count": 60,
   "source": [
    "# se establece el modelo\n",
    "# from sklearn.svm import LinearSVC\n",
    "#  from sklearn.pipeline import make_pipeline\n",
    "# from sklearn.preprocessing import StandardScaler\n",
    "# from sklearn.datasets import make_classification\n",
    "# clf = make_pipeline(StandardScaler(),LinearSVC(random_state=0, tol=1e-5))\n",
    "clf = svm.SVC()"
   ],
   "outputs": [],
   "metadata": {
    "id": "aT1s7oJDmisQ"
   }
  },
  {
   "cell_type": "code",
   "execution_count": 61,
   "source": [
    "best_model = GridSearchCV(clf, param_grid, cv = particiones)"
   ],
   "outputs": [],
   "metadata": {
    "id": "Z7-HiayjmiyV"
   }
  },
  {
   "cell_type": "code",
   "execution_count": 63,
   "source": [
    "#se entrena el modelo\n",
    "best_model.fit(X_train, Y_train)"
   ],
   "outputs": [
    {
     "output_type": "execute_result",
     "data": {
      "text/plain": [
       "GridSearchCV(cv=KFold(n_splits=10, random_state=161, shuffle=True),\n",
       "             estimator=SVC(), param_grid={'kernel': ['linear', 'poly', 'rbf']})"
      ]
     },
     "metadata": {},
     "execution_count": 63
    }
   ],
   "metadata": {
    "colab": {
     "base_uri": "https://localhost:8080/"
    },
    "id": "SQvB92Lhmi1O",
    "outputId": "1d7af3f3-38e1-4550-bff2-c6543d66f207"
   }
  },
  {
   "cell_type": "code",
   "execution_count": 64,
   "source": [
    "#la eleccion de hiperparámetros que mejor funcionan con el modelo\n",
    "best_model.best_params_"
   ],
   "outputs": [
    {
     "output_type": "execute_result",
     "data": {
      "text/plain": [
       "{'kernel': 'rbf'}"
      ]
     },
     "metadata": {},
     "execution_count": 64
    }
   ],
   "metadata": {
    "colab": {
     "base_uri": "https://localhost:8080/"
    },
    "id": "Ox30FNRzmi4D",
    "outputId": "85f02da6-c406-4905-a64b-2bb37d1294ae"
   }
  },
  {
   "cell_type": "code",
   "execution_count": 65,
   "source": [
    "final_SVC = best_model.best_estimator_"
   ],
   "outputs": [],
   "metadata": {
    "id": "xqS2C9rRmi66"
   }
  },
  {
   "cell_type": "markdown",
   "source": [
    "**Reporte de Metricas a Negocio**"
   ],
   "metadata": {
    "id": "5KejeD5FoYbN"
   }
  },
  {
   "cell_type": "code",
   "execution_count": 66,
   "source": [
    "y_pred_train = final_SVC.predict(X_train)\n",
    "y_pred_test = final_SVC.predict(X_test)\n",
    "print('Exactitud sobre entrenamiento: %.3f' % accuracy_score(Y_train, y_pred_train))\n",
    "print('Exactitud sobre test: %.3f' % accuracy_score(Y_test, y_pred_test))"
   ],
   "outputs": [
    {
     "output_type": "stream",
     "name": "stdout",
     "text": [
      "Exactitud sobre entrenamiento: 0.830\n",
      "Exactitud sobre test: 0.674\n"
     ]
    }
   ],
   "metadata": {
    "colab": {
     "base_uri": "https://localhost:8080/"
    },
    "id": "6GUHxVJami9o",
    "outputId": "fb4a859c-67f3-4fad-be4e-b22ef5c53a68"
   }
  },
  {
   "cell_type": "code",
   "execution_count": null,
   "source": [],
   "outputs": [],
   "metadata": {}
  },
  {
   "cell_type": "markdown",
   "source": [
    "F1 score"
   ],
   "metadata": {
    "id": "f2dZPOW3ojbJ"
   }
  },
  {
   "cell_type": "code",
   "execution_count": 67,
   "source": [
    "print('Train')\n",
    "print(classification_report(Y_train, y_pred_train))\n",
    "print(\"------------\")\n",
    "print('Test')\n",
    "print(classification_report(Y_test, y_pred_test))"
   ],
   "outputs": [
    {
     "output_type": "stream",
     "name": "stdout",
     "text": [
      "Train\n",
      "              precision    recall  f1-score   support\n",
      "\n",
      "           0       0.78      1.00      0.88      4941\n",
      "           1       1.00      0.56      0.71      3059\n",
      "\n",
      "    accuracy                           0.83      8000\n",
      "   macro avg       0.89      0.78      0.80      8000\n",
      "weighted avg       0.87      0.83      0.82      8000\n",
      "\n",
      "------------\n",
      "Test\n",
      "              precision    recall  f1-score   support\n",
      "\n",
      "           0       0.68      0.87      0.76      1218\n",
      "           1       0.64      0.37      0.47       782\n",
      "\n",
      "    accuracy                           0.67      2000\n",
      "   macro avg       0.66      0.62      0.62      2000\n",
      "weighted avg       0.67      0.67      0.65      2000\n",
      "\n"
     ]
    }
   ],
   "metadata": {
    "colab": {
     "base_uri": "https://localhost:8080/"
    },
    "id": "5IY6F2X2mjAr",
    "outputId": "9213b76a-a0e0-4c05-e767-56f3846068ec"
   }
  },
  {
   "cell_type": "code",
   "execution_count": 68,
   "source": [
    "# Se genera la matriz de confusión\n",
    "confusion_matrix(Y_test, y_pred_test)"
   ],
   "outputs": [
    {
     "output_type": "execute_result",
     "data": {
      "text/plain": [
       "array([[1056,  162],\n",
       "       [ 489,  293]])"
      ]
     },
     "metadata": {},
     "execution_count": 68
    }
   ],
   "metadata": {
    "colab": {
     "base_uri": "https://localhost:8080/"
    },
    "id": "0AEut2KjmE74",
    "outputId": "1c567911-6c94-4f46-c26a-2cfb07ef5b7f"
   }
  },
  {
   "cell_type": "code",
   "execution_count": 69,
   "source": [
    "plot_confusion_matrix(final_SVC, X_test, Y_test)  \n",
    "plt.show()  "
   ],
   "outputs": [
    {
     "output_type": "display_data",
     "data": {
      "image/png": "[encoded data removed]",
      "text/plain": [
       "<Figure size 432x288 with 2 Axes>"
      ]
     },
     "metadata": {
      "needs_background": "light"
     }
    }
   ],
   "metadata": {
    "id": "pz9LqiuQooiU"
   }
  },
  {
   "cell_type": "code",
   "execution_count": null,
   "source": [
    "# #grafica representando los resultados del modelo sobre el set de datos\n",
    "# #codigo tomado de: https://scikit-learn.org/0.18/auto_examples/svm/plot_iris.html\n",
    "\n",
    "# print(__doc__)\n",
    "\n",
    "# import numpy as np\n",
    "# import matplotlib.pyplot as plt\n",
    "# from sklearn import svm, datasets\n",
    "\n",
    "\n",
    "# # create a mesh to plot in\n",
    "# x_min, x_max = X[:, 0].min() - 1, X[:, 0].max() + 1\n",
    "# y_min, y_max = X[:, 1].min() - 1, X[:, 1].max() + 1\n",
    "# xx, yy = np.meshgrid(np.arange(x_min, x_max, h),\n",
    "#                      np.arange(y_min, y_max, h))\n",
    "\n",
    "# # title for the plots\n",
    "# titles = ['SVC with polynomial (degree 3) kernel']\n",
    "\n",
    "\n",
    "# for i, clf in enumerate((svc, final_SVC)):\n",
    "#     # Plot the decision boundary. For that, we will assign a color to each\n",
    "#     # point in the mesh [x_min, x_max]x[y_min, y_max].\n",
    "#     plt.subplot(2, 2, 1)\n",
    "#     plt.subplots_adjust(wspace=0.001, hspace=0.001)\n",
    "\n",
    "#     Z = final_SVC.predict(np.c_[xx.ravel(), yy.ravel()])\n",
    "\n",
    "#     # Put the result into a color plot\n",
    "#     Z = Z.reshape(xx.shape)\n",
    "#     plt.contourf(xx, yy, Z, cmap=plt.cm.coolwarm, alpha=0.8)\n",
    "\n",
    "#     # Plot also the training points\n",
    "#     plt.scatter(X[:, 0], X[:, 1], c=y, cmap=plt.cm.coolwarm)\n",
    "#     plt.xlabel('Sepal length')\n",
    "#     plt.ylabel('Sepal width')\n",
    "#     plt.xlim(xx.min(), xx.max())\n",
    "#     plt.ylim(yy.min(), yy.max())\n",
    "#     plt.xticks(())\n",
    "#     plt.yticks(())\n",
    "#     plt.title(titles[0])\n",
    "\n",
    "# plt.show()"
   ],
   "outputs": [],
   "metadata": {
    "id": "NiKupwdmo2AT"
   }
  }
 ],
 "metadata": {
  "colab": {
   "collapsed_sections": [
    "-9dP--fEm4G_"
   ],
   "name": "Proyecto1.ipynb",
   "provenance": []
  },
  "kernelspec": {
   "display_name": "Python 3",
   "language": "python",
   "name": "python3"
  },
  "language_info": {
   "codemirror_mode": {
    "name": "ipython",
    "version": 3
   },
   "file_extension": ".py",
   "mimetype": "text/x-python",
   "name": "python",
   "nbconvert_exporter": "python",
   "pygments_lexer": "ipython3",
   "version": "3.8.8"
  }
 },
 "nbformat": 4,
 "nbformat_minor": 4
}